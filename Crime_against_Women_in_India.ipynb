{
 "cells": [
  {
   "cell_type": "markdown",
   "metadata": {},
   "source": [
    "# Crimes against women in India\n",
    "\n",
    "\n",
    "### This project contains the data record of all types of crime against women in india in the span of year 2001-2014. Main aim of working on this project is to reflect the situation of women in our society and raise concern about this matter.\n",
    "\n",
    "This project is part of my Data Analysis with Python: Zero to Pandas course - www.zerotopandas.com."
   ]
  },
  {
   "cell_type": "code",
   "execution_count": 1,
   "metadata": {},
   "outputs": [
    {
     "data": {
      "application/javascript": [
       "if (window.IPython && IPython.notebook.kernel) IPython.notebook.kernel.execute('jovian.utils.jupyter.get_notebook_name_saved = lambda: \"' + IPython.notebook.notebook_name + '\"')"
      ],
      "text/plain": [
       "<IPython.core.display.Javascript object>"
      ]
     },
     "metadata": {},
     "output_type": "display_data"
    }
   ],
   "source": [
    "import jovian"
   ]
  },
  {
   "cell_type": "code",
   "execution_count": 2,
   "metadata": {},
   "outputs": [
    {
     "data": {
      "application/javascript": [
       "window.require && require([\"base/js/namespace\"],function(Jupyter){Jupyter.notebook.save_checkpoint()})"
      ],
      "text/plain": [
       "<IPython.core.display.Javascript object>"
      ]
     },
     "metadata": {},
     "output_type": "display_data"
    },
    {
     "name": "stdout",
     "output_type": "stream",
     "text": [
      "[jovian] Attempting to save notebook..\u001b[0m\n",
      "[jovian] Please enter your API key ( from https://jovian.ml/ ):\u001b[0m\n",
      "API KEY: ········\n",
      "[jovian] Updating notebook \"sathi-satb/crime-against-women\" on https://jovian.ml/\u001b[0m\n",
      "[jovian] Uploading notebook..\u001b[0m\n",
      "[jovian] Committed successfully! https://jovian.ml/sathi-satb/crime-against-women\u001b[0m\n"
     ]
    },
    {
     "data": {
      "text/plain": [
       "'https://jovian.ml/sathi-satb/crime-against-women'"
      ]
     },
     "execution_count": 2,
     "metadata": {},
     "output_type": "execute_result"
    }
   ],
   "source": [
    "jovian.commit(project='crime-against-women', environment=None)"
   ]
  },
  {
   "cell_type": "code",
   "execution_count": 3,
   "metadata": {},
   "outputs": [
    {
     "name": "stdout",
     "output_type": "stream",
     "text": [
      "Requirement already satisfied: pandas in /srv/conda/envs/notebook/lib/python3.7/site-packages (1.1.2)\n",
      "Requirement already satisfied: pytz>=2017.2 in /srv/conda/envs/notebook/lib/python3.7/site-packages (from pandas) (2020.1)\n",
      "Requirement already satisfied: numpy>=1.15.4 in /srv/conda/envs/notebook/lib/python3.7/site-packages (from pandas) (1.19.2)\n",
      "Requirement already satisfied: python-dateutil>=2.7.3 in /srv/conda/envs/notebook/lib/python3.7/site-packages (from pandas) (2.8.1)\n",
      "Requirement already satisfied: six>=1.5 in /srv/conda/envs/notebook/lib/python3.7/site-packages (from python-dateutil>=2.7.3->pandas) (1.15.0)\n",
      "Requirement already satisfied: matplotlib in /srv/conda/envs/notebook/lib/python3.7/site-packages (3.3.2)\n",
      "Requirement already satisfied: numpy>=1.15 in /srv/conda/envs/notebook/lib/python3.7/site-packages (from matplotlib) (1.19.2)\n",
      "Requirement already satisfied: certifi>=2020.06.20 in /srv/conda/envs/notebook/lib/python3.7/site-packages (from matplotlib) (2020.6.20)\n",
      "Requirement already satisfied: pillow>=6.2.0 in /srv/conda/envs/notebook/lib/python3.7/site-packages (from matplotlib) (7.2.0)\n",
      "Requirement already satisfied: python-dateutil>=2.1 in /srv/conda/envs/notebook/lib/python3.7/site-packages (from matplotlib) (2.8.1)\n",
      "Requirement already satisfied: kiwisolver>=1.0.1 in /srv/conda/envs/notebook/lib/python3.7/site-packages (from matplotlib) (1.2.0)\n",
      "Requirement already satisfied: cycler>=0.10 in /srv/conda/envs/notebook/lib/python3.7/site-packages (from matplotlib) (0.10.0)\n",
      "Requirement already satisfied: pyparsing!=2.0.4,!=2.1.2,!=2.1.6,>=2.0.3 in /srv/conda/envs/notebook/lib/python3.7/site-packages (from matplotlib) (2.4.7)\n",
      "Requirement already satisfied: six>=1.5 in /srv/conda/envs/notebook/lib/python3.7/site-packages (from python-dateutil>=2.1->matplotlib) (1.15.0)\n",
      "Requirement already satisfied: seaborn in /srv/conda/envs/notebook/lib/python3.7/site-packages (0.11.0)\n",
      "Requirement already satisfied: scipy>=1.0 in /srv/conda/envs/notebook/lib/python3.7/site-packages (from seaborn) (1.5.2)\n",
      "Requirement already satisfied: matplotlib>=2.2 in /srv/conda/envs/notebook/lib/python3.7/site-packages (from seaborn) (3.3.2)\n",
      "Requirement already satisfied: numpy>=1.15 in /srv/conda/envs/notebook/lib/python3.7/site-packages (from seaborn) (1.19.2)\n",
      "Requirement already satisfied: pandas>=0.23 in /srv/conda/envs/notebook/lib/python3.7/site-packages (from seaborn) (1.1.2)\n",
      "Requirement already satisfied: pyparsing!=2.0.4,!=2.1.2,!=2.1.6,>=2.0.3 in /srv/conda/envs/notebook/lib/python3.7/site-packages (from matplotlib>=2.2->seaborn) (2.4.7)\n",
      "Requirement already satisfied: kiwisolver>=1.0.1 in /srv/conda/envs/notebook/lib/python3.7/site-packages (from matplotlib>=2.2->seaborn) (1.2.0)\n",
      "Requirement already satisfied: cycler>=0.10 in /srv/conda/envs/notebook/lib/python3.7/site-packages (from matplotlib>=2.2->seaborn) (0.10.0)\n",
      "Requirement already satisfied: python-dateutil>=2.1 in /srv/conda/envs/notebook/lib/python3.7/site-packages (from matplotlib>=2.2->seaborn) (2.8.1)\n",
      "Requirement already satisfied: pillow>=6.2.0 in /srv/conda/envs/notebook/lib/python3.7/site-packages (from matplotlib>=2.2->seaborn) (7.2.0)\n",
      "Requirement already satisfied: certifi>=2020.06.20 in /srv/conda/envs/notebook/lib/python3.7/site-packages (from matplotlib>=2.2->seaborn) (2020.6.20)\n",
      "Requirement already satisfied: pytz>=2017.2 in /srv/conda/envs/notebook/lib/python3.7/site-packages (from pandas>=0.23->seaborn) (2020.1)\n",
      "Requirement already satisfied: six in /srv/conda/envs/notebook/lib/python3.7/site-packages (from cycler>=0.10->matplotlib>=2.2->seaborn) (1.15.0)\n"
     ]
    }
   ],
   "source": [
    "!pip install pandas \n",
    "!pip install matplotlib \n",
    "!pip install seaborn"
   ]
  },
  {
   "cell_type": "code",
   "execution_count": 4,
   "metadata": {},
   "outputs": [],
   "source": [
    "import pandas as pd\n",
    "import numpy as np\n",
    "import matplotlib.pyplot as plt\n",
    "import seaborn as sns\n",
    "%matplotlib inline"
   ]
  },
  {
   "cell_type": "markdown",
   "metadata": {},
   "source": [
    "## Importing Data"
   ]
  },
  {
   "cell_type": "markdown",
   "metadata": {},
   "source": [
    "#### Reading the csv file."
   ]
  },
  {
   "cell_type": "code",
   "execution_count": 5,
   "metadata": {},
   "outputs": [
    {
     "data": {
      "application/javascript": [
       "window.require && require([\"base/js/namespace\"],function(Jupyter){Jupyter.notebook.save_checkpoint()})"
      ],
      "text/plain": [
       "<IPython.core.display.Javascript object>"
      ]
     },
     "metadata": {},
     "output_type": "display_data"
    },
    {
     "name": "stdout",
     "output_type": "stream",
     "text": [
      "[jovian] Attempting to save notebook..\u001b[0m\n",
      "[jovian] Updating notebook \"sathi-satb/crime-against-women\" on https://jovian.ml/\u001b[0m\n",
      "[jovian] Uploading notebook..\u001b[0m\n",
      "[jovian] Capturing environment..\u001b[0m\n",
      "[jovian] Committed successfully! https://jovian.ml/sathi-satb/crime-against-women\u001b[0m\n"
     ]
    },
    {
     "data": {
      "text/plain": [
       "'https://jovian.ml/sathi-satb/crime-against-women'"
      ]
     },
     "execution_count": 5,
     "metadata": {},
     "output_type": "execute_result"
    }
   ],
   "source": [
    "jovian.commit('crimes_against_women.csv')"
   ]
  },
  {
   "cell_type": "code",
   "execution_count": 6,
   "metadata": {},
   "outputs": [],
   "source": [
    "crimes_df = pd.read_csv('crimes_against_women.csv')"
   ]
  },
  {
   "cell_type": "code",
   "execution_count": 7,
   "metadata": {},
   "outputs": [
    {
     "data": {
      "text/html": [
       "<div>\n",
       "<style scoped>\n",
       "    .dataframe tbody tr th:only-of-type {\n",
       "        vertical-align: middle;\n",
       "    }\n",
       "\n",
       "    .dataframe tbody tr th {\n",
       "        vertical-align: top;\n",
       "    }\n",
       "\n",
       "    .dataframe thead th {\n",
       "        text-align: right;\n",
       "    }\n",
       "</style>\n",
       "<table border=\"1\" class=\"dataframe\">\n",
       "  <thead>\n",
       "    <tr style=\"text-align: right;\">\n",
       "      <th></th>\n",
       "      <th>Unnamed: 0</th>\n",
       "      <th>STATE/UT</th>\n",
       "      <th>DISTRICT</th>\n",
       "      <th>Year</th>\n",
       "      <th>Rape</th>\n",
       "      <th>Kidnapping_Abduction</th>\n",
       "      <th>Dowry_Deaths</th>\n",
       "      <th>Assault_for_her_modesty</th>\n",
       "      <th>Insult_to_modesty_of_Women</th>\n",
       "      <th>Domestic_violence</th>\n",
       "      <th>Importation_of_Girls</th>\n",
       "    </tr>\n",
       "  </thead>\n",
       "  <tbody>\n",
       "    <tr>\n",
       "      <th>0</th>\n",
       "      <td>0</td>\n",
       "      <td>ANDHRA PRADESH</td>\n",
       "      <td>ADILABAD</td>\n",
       "      <td>2001</td>\n",
       "      <td>50</td>\n",
       "      <td>30</td>\n",
       "      <td>16</td>\n",
       "      <td>149</td>\n",
       "      <td>34</td>\n",
       "      <td>175</td>\n",
       "      <td>0</td>\n",
       "    </tr>\n",
       "    <tr>\n",
       "      <th>1</th>\n",
       "      <td>1</td>\n",
       "      <td>ANDHRA PRADESH</td>\n",
       "      <td>ANANTAPUR</td>\n",
       "      <td>2001</td>\n",
       "      <td>23</td>\n",
       "      <td>30</td>\n",
       "      <td>7</td>\n",
       "      <td>118</td>\n",
       "      <td>24</td>\n",
       "      <td>154</td>\n",
       "      <td>0</td>\n",
       "    </tr>\n",
       "    <tr>\n",
       "      <th>2</th>\n",
       "      <td>2</td>\n",
       "      <td>ANDHRA PRADESH</td>\n",
       "      <td>CHITTOOR</td>\n",
       "      <td>2001</td>\n",
       "      <td>27</td>\n",
       "      <td>34</td>\n",
       "      <td>14</td>\n",
       "      <td>112</td>\n",
       "      <td>83</td>\n",
       "      <td>186</td>\n",
       "      <td>0</td>\n",
       "    </tr>\n",
       "    <tr>\n",
       "      <th>3</th>\n",
       "      <td>3</td>\n",
       "      <td>ANDHRA PRADESH</td>\n",
       "      <td>CUDDAPAH</td>\n",
       "      <td>2001</td>\n",
       "      <td>20</td>\n",
       "      <td>20</td>\n",
       "      <td>17</td>\n",
       "      <td>126</td>\n",
       "      <td>38</td>\n",
       "      <td>57</td>\n",
       "      <td>0</td>\n",
       "    </tr>\n",
       "    <tr>\n",
       "      <th>4</th>\n",
       "      <td>4</td>\n",
       "      <td>ANDHRA PRADESH</td>\n",
       "      <td>EAST GODAVARI</td>\n",
       "      <td>2001</td>\n",
       "      <td>23</td>\n",
       "      <td>26</td>\n",
       "      <td>12</td>\n",
       "      <td>109</td>\n",
       "      <td>58</td>\n",
       "      <td>247</td>\n",
       "      <td>0</td>\n",
       "    </tr>\n",
       "    <tr>\n",
       "      <th>...</th>\n",
       "      <td>...</td>\n",
       "      <td>...</td>\n",
       "      <td>...</td>\n",
       "      <td>...</td>\n",
       "      <td>...</td>\n",
       "      <td>...</td>\n",
       "      <td>...</td>\n",
       "      <td>...</td>\n",
       "      <td>...</td>\n",
       "      <td>...</td>\n",
       "      <td>...</td>\n",
       "    </tr>\n",
       "    <tr>\n",
       "      <th>10672</th>\n",
       "      <td>832</td>\n",
       "      <td>Lakshadweep</td>\n",
       "      <td>Lakshadweep</td>\n",
       "      <td>2014</td>\n",
       "      <td>1</td>\n",
       "      <td>0</td>\n",
       "      <td>0</td>\n",
       "      <td>1</td>\n",
       "      <td>2</td>\n",
       "      <td>0</td>\n",
       "      <td>0</td>\n",
       "    </tr>\n",
       "    <tr>\n",
       "      <th>10673</th>\n",
       "      <td>833</td>\n",
       "      <td>Lakshadweep</td>\n",
       "      <td>Total District(s)</td>\n",
       "      <td>2014</td>\n",
       "      <td>1</td>\n",
       "      <td>0</td>\n",
       "      <td>0</td>\n",
       "      <td>1</td>\n",
       "      <td>2</td>\n",
       "      <td>0</td>\n",
       "      <td>0</td>\n",
       "    </tr>\n",
       "    <tr>\n",
       "      <th>10674</th>\n",
       "      <td>834</td>\n",
       "      <td>Puducherry</td>\n",
       "      <td>Karaikal</td>\n",
       "      <td>2014</td>\n",
       "      <td>3</td>\n",
       "      <td>1</td>\n",
       "      <td>0</td>\n",
       "      <td>12</td>\n",
       "      <td>1</td>\n",
       "      <td>1</td>\n",
       "      <td>0</td>\n",
       "    </tr>\n",
       "    <tr>\n",
       "      <th>10675</th>\n",
       "      <td>835</td>\n",
       "      <td>Puducherry</td>\n",
       "      <td>Puducherry</td>\n",
       "      <td>2014</td>\n",
       "      <td>7</td>\n",
       "      <td>6</td>\n",
       "      <td>1</td>\n",
       "      <td>20</td>\n",
       "      <td>7</td>\n",
       "      <td>3</td>\n",
       "      <td>0</td>\n",
       "    </tr>\n",
       "    <tr>\n",
       "      <th>10676</th>\n",
       "      <td>836</td>\n",
       "      <td>Puducherry</td>\n",
       "      <td>Total District(s)</td>\n",
       "      <td>2014</td>\n",
       "      <td>10</td>\n",
       "      <td>7</td>\n",
       "      <td>1</td>\n",
       "      <td>32</td>\n",
       "      <td>8</td>\n",
       "      <td>4</td>\n",
       "      <td>0</td>\n",
       "    </tr>\n",
       "  </tbody>\n",
       "</table>\n",
       "<p>10677 rows × 11 columns</p>\n",
       "</div>"
      ],
      "text/plain": [
       "       Unnamed: 0        STATE/UT           DISTRICT  Year  Rape  \\\n",
       "0               0  ANDHRA PRADESH           ADILABAD  2001    50   \n",
       "1               1  ANDHRA PRADESH          ANANTAPUR  2001    23   \n",
       "2               2  ANDHRA PRADESH           CHITTOOR  2001    27   \n",
       "3               3  ANDHRA PRADESH           CUDDAPAH  2001    20   \n",
       "4               4  ANDHRA PRADESH      EAST GODAVARI  2001    23   \n",
       "...           ...             ...                ...   ...   ...   \n",
       "10672         832     Lakshadweep        Lakshadweep  2014     1   \n",
       "10673         833     Lakshadweep  Total District(s)  2014     1   \n",
       "10674         834      Puducherry           Karaikal  2014     3   \n",
       "10675         835      Puducherry         Puducherry  2014     7   \n",
       "10676         836      Puducherry  Total District(s)  2014    10   \n",
       "\n",
       "       Kidnapping_Abduction  Dowry_Deaths  Assault_for_her_modesty  \\\n",
       "0                        30            16                      149   \n",
       "1                        30             7                      118   \n",
       "2                        34            14                      112   \n",
       "3                        20            17                      126   \n",
       "4                        26            12                      109   \n",
       "...                     ...           ...                      ...   \n",
       "10672                     0             0                        1   \n",
       "10673                     0             0                        1   \n",
       "10674                     1             0                       12   \n",
       "10675                     6             1                       20   \n",
       "10676                     7             1                       32   \n",
       "\n",
       "       Insult_to_modesty_of_Women  Domestic_violence  Importation_of_Girls  \n",
       "0                              34                175                     0  \n",
       "1                              24                154                     0  \n",
       "2                              83                186                     0  \n",
       "3                              38                 57                     0  \n",
       "4                              58                247                     0  \n",
       "...                           ...                ...                   ...  \n",
       "10672                           2                  0                     0  \n",
       "10673                           2                  0                     0  \n",
       "10674                           1                  1                     0  \n",
       "10675                           7                  3                     0  \n",
       "10676                           8                  4                     0  \n",
       "\n",
       "[10677 rows x 11 columns]"
      ]
     },
     "execution_count": 7,
     "metadata": {},
     "output_type": "execute_result"
    }
   ],
   "source": [
    "crimes_df"
   ]
  },
  {
   "cell_type": "markdown",
   "metadata": {},
   "source": [
    "#### Let us find out the number of rows and column of the particular dataset"
   ]
  },
  {
   "cell_type": "code",
   "execution_count": 8,
   "metadata": {},
   "outputs": [
    {
     "data": {
      "text/plain": [
       "(10677, 11)"
      ]
     },
     "execution_count": 8,
     "metadata": {},
     "output_type": "execute_result"
    }
   ],
   "source": [
    "crimes_df.shape"
   ]
  },
  {
   "cell_type": "code",
   "execution_count": 9,
   "metadata": {},
   "outputs": [],
   "source": [
    "import jovian"
   ]
  },
  {
   "cell_type": "code",
   "execution_count": 10,
   "metadata": {},
   "outputs": [
    {
     "data": {
      "application/javascript": [
       "window.require && require([\"base/js/namespace\"],function(Jupyter){Jupyter.notebook.save_checkpoint()})"
      ],
      "text/plain": [
       "<IPython.core.display.Javascript object>"
      ]
     },
     "metadata": {},
     "output_type": "display_data"
    },
    {
     "name": "stdout",
     "output_type": "stream",
     "text": [
      "[jovian] Attempting to save notebook..\u001b[0m\n",
      "[jovian] Updating notebook \"sathi-satb/crime-against-women\" on https://jovian.ml/\u001b[0m\n",
      "[jovian] Uploading notebook..\u001b[0m\n",
      "[jovian] Capturing environment..\u001b[0m\n",
      "[jovian] Committed successfully! https://jovian.ml/sathi-satb/crime-against-women\u001b[0m\n"
     ]
    },
    {
     "data": {
      "text/plain": [
       "'https://jovian.ml/sathi-satb/crime-against-women'"
      ]
     },
     "execution_count": 10,
     "metadata": {},
     "output_type": "execute_result"
    }
   ],
   "source": [
    "jovian.commit()"
   ]
  },
  {
   "cell_type": "markdown",
   "metadata": {},
   "source": [
    "# Data Preparation and Cleaning"
   ]
  },
  {
   "cell_type": "markdown",
   "metadata": {},
   "source": [
    "#### To start with the very basic of data cleaning, let's find out if any of the columns have any Null or missing values"
   ]
  },
  {
   "cell_type": "code",
   "execution_count": 11,
   "metadata": {},
   "outputs": [],
   "source": [
    "overall_crime = crimes_df.isna().sum()"
   ]
  },
  {
   "cell_type": "code",
   "execution_count": 12,
   "metadata": {},
   "outputs": [
    {
     "data": {
      "text/plain": [
       "Unnamed: 0                    0\n",
       "STATE/UT                      0\n",
       "DISTRICT                      0\n",
       "Year                          0\n",
       "Rape                          0\n",
       "Kidnapping_Abduction          0\n",
       "Dowry_Deaths                  0\n",
       "Assault_for_her_modesty       0\n",
       "Insult_to_modesty_of_Women    0\n",
       "Domestic_violence             0\n",
       "Importation_of_Girls          0\n",
       "dtype: int64"
      ]
     },
     "execution_count": 12,
     "metadata": {},
     "output_type": "execute_result"
    }
   ],
   "source": [
    "overall_crime"
   ]
  },
  {
   "cell_type": "markdown",
   "metadata": {},
   "source": [
    "###### None of the column has any Null values."
   ]
  },
  {
   "cell_type": "markdown",
   "metadata": {},
   "source": [
    "#### Now let's find the total number of 'Unique' districts, where the crimes have been committed"
   ]
  },
  {
   "cell_type": "code",
   "execution_count": 13,
   "metadata": {},
   "outputs": [],
   "source": [
    "districts = len(crimes_df.DISTRICT.unique())"
   ]
  },
  {
   "cell_type": "code",
   "execution_count": 14,
   "metadata": {},
   "outputs": [
    {
     "data": {
      "text/plain": [
       "1605"
      ]
     },
     "execution_count": 14,
     "metadata": {},
     "output_type": "execute_result"
    }
   ],
   "source": [
    "districts"
   ]
  },
  {
   "cell_type": "markdown",
   "metadata": {},
   "source": [
    "#### But there are 718 districts in India, in total, which means there is messy or false datas in a huge amount, in this case, we better drop the column \"District\" and also \"Unnamed: 0\", as it is of no use, in our data analysis process."
   ]
  },
  {
   "cell_type": "code",
   "execution_count": 15,
   "metadata": {},
   "outputs": [],
   "source": [
    "crimes_df.drop(['DISTRICT', 'Unnamed: 0'], axis = 1, inplace=True)\n"
   ]
  },
  {
   "cell_type": "code",
   "execution_count": 16,
   "metadata": {},
   "outputs": [
    {
     "data": {
      "text/html": [
       "<div>\n",
       "<style scoped>\n",
       "    .dataframe tbody tr th:only-of-type {\n",
       "        vertical-align: middle;\n",
       "    }\n",
       "\n",
       "    .dataframe tbody tr th {\n",
       "        vertical-align: top;\n",
       "    }\n",
       "\n",
       "    .dataframe thead th {\n",
       "        text-align: right;\n",
       "    }\n",
       "</style>\n",
       "<table border=\"1\" class=\"dataframe\">\n",
       "  <thead>\n",
       "    <tr style=\"text-align: right;\">\n",
       "      <th></th>\n",
       "      <th>STATE/UT</th>\n",
       "      <th>Year</th>\n",
       "      <th>Rape</th>\n",
       "      <th>Kidnapping_Abduction</th>\n",
       "      <th>Dowry_Deaths</th>\n",
       "      <th>Assault_for_her_modesty</th>\n",
       "      <th>Insult_to_modesty_of_Women</th>\n",
       "      <th>Domestic_violence</th>\n",
       "      <th>Importation_of_Girls</th>\n",
       "    </tr>\n",
       "  </thead>\n",
       "  <tbody>\n",
       "    <tr>\n",
       "      <th>0</th>\n",
       "      <td>ANDHRA PRADESH</td>\n",
       "      <td>2001</td>\n",
       "      <td>50</td>\n",
       "      <td>30</td>\n",
       "      <td>16</td>\n",
       "      <td>149</td>\n",
       "      <td>34</td>\n",
       "      <td>175</td>\n",
       "      <td>0</td>\n",
       "    </tr>\n",
       "    <tr>\n",
       "      <th>1</th>\n",
       "      <td>ANDHRA PRADESH</td>\n",
       "      <td>2001</td>\n",
       "      <td>23</td>\n",
       "      <td>30</td>\n",
       "      <td>7</td>\n",
       "      <td>118</td>\n",
       "      <td>24</td>\n",
       "      <td>154</td>\n",
       "      <td>0</td>\n",
       "    </tr>\n",
       "    <tr>\n",
       "      <th>2</th>\n",
       "      <td>ANDHRA PRADESH</td>\n",
       "      <td>2001</td>\n",
       "      <td>27</td>\n",
       "      <td>34</td>\n",
       "      <td>14</td>\n",
       "      <td>112</td>\n",
       "      <td>83</td>\n",
       "      <td>186</td>\n",
       "      <td>0</td>\n",
       "    </tr>\n",
       "    <tr>\n",
       "      <th>3</th>\n",
       "      <td>ANDHRA PRADESH</td>\n",
       "      <td>2001</td>\n",
       "      <td>20</td>\n",
       "      <td>20</td>\n",
       "      <td>17</td>\n",
       "      <td>126</td>\n",
       "      <td>38</td>\n",
       "      <td>57</td>\n",
       "      <td>0</td>\n",
       "    </tr>\n",
       "    <tr>\n",
       "      <th>4</th>\n",
       "      <td>ANDHRA PRADESH</td>\n",
       "      <td>2001</td>\n",
       "      <td>23</td>\n",
       "      <td>26</td>\n",
       "      <td>12</td>\n",
       "      <td>109</td>\n",
       "      <td>58</td>\n",
       "      <td>247</td>\n",
       "      <td>0</td>\n",
       "    </tr>\n",
       "    <tr>\n",
       "      <th>...</th>\n",
       "      <td>...</td>\n",
       "      <td>...</td>\n",
       "      <td>...</td>\n",
       "      <td>...</td>\n",
       "      <td>...</td>\n",
       "      <td>...</td>\n",
       "      <td>...</td>\n",
       "      <td>...</td>\n",
       "      <td>...</td>\n",
       "    </tr>\n",
       "    <tr>\n",
       "      <th>10672</th>\n",
       "      <td>Lakshadweep</td>\n",
       "      <td>2014</td>\n",
       "      <td>1</td>\n",
       "      <td>0</td>\n",
       "      <td>0</td>\n",
       "      <td>1</td>\n",
       "      <td>2</td>\n",
       "      <td>0</td>\n",
       "      <td>0</td>\n",
       "    </tr>\n",
       "    <tr>\n",
       "      <th>10673</th>\n",
       "      <td>Lakshadweep</td>\n",
       "      <td>2014</td>\n",
       "      <td>1</td>\n",
       "      <td>0</td>\n",
       "      <td>0</td>\n",
       "      <td>1</td>\n",
       "      <td>2</td>\n",
       "      <td>0</td>\n",
       "      <td>0</td>\n",
       "    </tr>\n",
       "    <tr>\n",
       "      <th>10674</th>\n",
       "      <td>Puducherry</td>\n",
       "      <td>2014</td>\n",
       "      <td>3</td>\n",
       "      <td>1</td>\n",
       "      <td>0</td>\n",
       "      <td>12</td>\n",
       "      <td>1</td>\n",
       "      <td>1</td>\n",
       "      <td>0</td>\n",
       "    </tr>\n",
       "    <tr>\n",
       "      <th>10675</th>\n",
       "      <td>Puducherry</td>\n",
       "      <td>2014</td>\n",
       "      <td>7</td>\n",
       "      <td>6</td>\n",
       "      <td>1</td>\n",
       "      <td>20</td>\n",
       "      <td>7</td>\n",
       "      <td>3</td>\n",
       "      <td>0</td>\n",
       "    </tr>\n",
       "    <tr>\n",
       "      <th>10676</th>\n",
       "      <td>Puducherry</td>\n",
       "      <td>2014</td>\n",
       "      <td>10</td>\n",
       "      <td>7</td>\n",
       "      <td>1</td>\n",
       "      <td>32</td>\n",
       "      <td>8</td>\n",
       "      <td>4</td>\n",
       "      <td>0</td>\n",
       "    </tr>\n",
       "  </tbody>\n",
       "</table>\n",
       "<p>10677 rows × 9 columns</p>\n",
       "</div>"
      ],
      "text/plain": [
       "             STATE/UT  Year  Rape  Kidnapping_Abduction  Dowry_Deaths  \\\n",
       "0      ANDHRA PRADESH  2001    50                    30            16   \n",
       "1      ANDHRA PRADESH  2001    23                    30             7   \n",
       "2      ANDHRA PRADESH  2001    27                    34            14   \n",
       "3      ANDHRA PRADESH  2001    20                    20            17   \n",
       "4      ANDHRA PRADESH  2001    23                    26            12   \n",
       "...               ...   ...   ...                   ...           ...   \n",
       "10672     Lakshadweep  2014     1                     0             0   \n",
       "10673     Lakshadweep  2014     1                     0             0   \n",
       "10674      Puducherry  2014     3                     1             0   \n",
       "10675      Puducherry  2014     7                     6             1   \n",
       "10676      Puducherry  2014    10                     7             1   \n",
       "\n",
       "       Assault_for_her_modesty  Insult_to_modesty_of_Women  Domestic_violence  \\\n",
       "0                          149                          34                175   \n",
       "1                          118                          24                154   \n",
       "2                          112                          83                186   \n",
       "3                          126                          38                 57   \n",
       "4                          109                          58                247   \n",
       "...                        ...                         ...                ...   \n",
       "10672                        1                           2                  0   \n",
       "10673                        1                           2                  0   \n",
       "10674                       12                           1                  1   \n",
       "10675                       20                           7                  3   \n",
       "10676                       32                           8                  4   \n",
       "\n",
       "       Importation_of_Girls  \n",
       "0                         0  \n",
       "1                         0  \n",
       "2                         0  \n",
       "3                         0  \n",
       "4                         0  \n",
       "...                     ...  \n",
       "10672                     0  \n",
       "10673                     0  \n",
       "10674                     0  \n",
       "10675                     0  \n",
       "10676                     0  \n",
       "\n",
       "[10677 rows x 9 columns]"
      ]
     },
     "execution_count": 16,
     "metadata": {},
     "output_type": "execute_result"
    }
   ],
   "source": [
    "crimes_df"
   ]
  },
  {
   "cell_type": "markdown",
   "metadata": {},
   "source": [
    "#### Now, let's start with analysing the datas of the column \"STATE/UT\", for that let's find out the names of all the states/UT through .unique()"
   ]
  },
  {
   "cell_type": "code",
   "execution_count": 17,
   "metadata": {},
   "outputs": [
    {
     "name": "stdout",
     "output_type": "stream",
     "text": [
      "['ANDHRA PRADESH' 'ARUNACHAL PRADESH' 'ASSAM' 'BIHAR' 'CHHATTISGARH' 'GOA'\n",
      " 'GUJARAT' 'HARYANA' 'HIMACHAL PRADESH' 'JAMMU & KASHMIR' 'JHARKHAND'\n",
      " 'KARNATAKA' 'KERALA' 'MADHYA PRADESH' 'MAHARASHTRA' 'MANIPUR' 'MEGHALAYA'\n",
      " 'MIZORAM' 'NAGALAND' 'ODISHA' 'PUNJAB' 'RAJASTHAN' 'SIKKIM' 'TAMIL NADU'\n",
      " 'TRIPURA' 'UTTAR PRADESH' 'UTTARAKHAND' 'WEST BENGAL' 'A & N ISLANDS'\n",
      " 'CHANDIGARH' 'D & N HAVELI' 'DAMAN & DIU' 'DELHI' 'LAKSHADWEEP'\n",
      " 'PUDUCHERRY' 'Andhra Pradesh' 'Arunachal Pradesh' 'Assam' 'Bihar'\n",
      " 'Chhattisgarh' 'Goa' 'Gujarat' 'Haryana' 'Himachal Pradesh'\n",
      " 'Jammu & Kashmir' 'Jharkhand' 'Karnataka' 'Kerala' 'Madhya Pradesh'\n",
      " 'Maharashtra' 'Manipur' 'Meghalaya' 'Mizoram' 'Nagaland' 'Odisha'\n",
      " 'Punjab' 'Rajasthan' 'Sikkim' 'Tamil Nadu' 'Tripura' 'Uttar Pradesh'\n",
      " 'Uttarakhand' 'West Bengal' 'A&N Islands' 'Chandigarh' 'D&N Haveli'\n",
      " 'Daman & Diu' 'Delhi UT' 'Lakshadweep' 'Puducherry' 'Telangana'\n",
      " 'A & N Islands']\n"
     ]
    }
   ],
   "source": [
    "print(crimes_df['STATE/UT'].unique())"
   ]
  },
  {
   "cell_type": "markdown",
   "metadata": {},
   "source": [
    "#### We can see from above that there are lot many repeated datas, like some of them are repeated again by using capital letters and some of them have issues with space too, like A&N Islands and also Delhi has been repeated again by mentioning it as Delhi UT"
   ]
  },
  {
   "cell_type": "code",
   "execution_count": 18,
   "metadata": {},
   "outputs": [],
   "source": [
    "# Fist we will remove all the repeated uppercase values\n",
    "def remove_uppercase(r):\n",
    "    r = r['STATE/UT'].strip()\n",
    "    r = r.upper()\n",
    "    return r\n",
    "crimes_df['STATE/UT'] = crimes_df.apply(remove_uppercase, axis=1)\n",
    "\n",
    "#Now use replace function to replace the other type of repeated datas as dicussed above\n",
    "crimes_df['STATE/UT'].replace(\"A&N ISLANDS\", \"A & N ISLANDS\", inplace = True)\n",
    "crimes_df['STATE/UT'].replace(\"D&N HAVELI\", \"D & N HAVELI\", inplace = True)\n",
    "crimes_df['STATE/UT'].replace(\"DELHI UT\", \"DELHI\", inplace = True)"
   ]
  },
  {
   "cell_type": "markdown",
   "metadata": {},
   "source": [
    "#### Let's go through the datas now!"
   ]
  },
  {
   "cell_type": "code",
   "execution_count": 19,
   "metadata": {},
   "outputs": [
    {
     "data": {
      "text/plain": [
       "array(['ANDHRA PRADESH', 'ARUNACHAL PRADESH', 'ASSAM', 'BIHAR',\n",
       "       'CHHATTISGARH', 'GOA', 'GUJARAT', 'HARYANA', 'HIMACHAL PRADESH',\n",
       "       'JAMMU & KASHMIR', 'JHARKHAND', 'KARNATAKA', 'KERALA',\n",
       "       'MADHYA PRADESH', 'MAHARASHTRA', 'MANIPUR', 'MEGHALAYA', 'MIZORAM',\n",
       "       'NAGALAND', 'ODISHA', 'PUNJAB', 'RAJASTHAN', 'SIKKIM',\n",
       "       'TAMIL NADU', 'TRIPURA', 'UTTAR PRADESH', 'UTTARAKHAND',\n",
       "       'WEST BENGAL', 'A & N ISLANDS', 'CHANDIGARH', 'D & N HAVELI',\n",
       "       'DAMAN & DIU', 'DELHI', 'LAKSHADWEEP', 'PUDUCHERRY', 'TELANGANA'],\n",
       "      dtype=object)"
      ]
     },
     "execution_count": 19,
     "metadata": {},
     "output_type": "execute_result"
    }
   ],
   "source": [
    "crimes_df['STATE/UT'].unique()"
   ]
  },
  {
   "cell_type": "markdown",
   "metadata": {},
   "source": [
    "#### Let's check the total number of States+UT"
   ]
  },
  {
   "cell_type": "code",
   "execution_count": 20,
   "metadata": {},
   "outputs": [
    {
     "data": {
      "text/plain": [
       "36"
      ]
     },
     "execution_count": 20,
     "metadata": {},
     "output_type": "execute_result"
    }
   ],
   "source": [
    "len(crimes_df['STATE/UT'].unique())"
   ]
  },
  {
   "cell_type": "markdown",
   "metadata": {},
   "source": [
    "#### Which is coming out perfect, hence we are done with our data cleaning process of our dataset"
   ]
  },
  {
   "cell_type": "code",
   "execution_count": 21,
   "metadata": {},
   "outputs": [],
   "source": [
    "import jovian"
   ]
  },
  {
   "cell_type": "code",
   "execution_count": 22,
   "metadata": {},
   "outputs": [
    {
     "data": {
      "application/javascript": [
       "window.require && require([\"base/js/namespace\"],function(Jupyter){Jupyter.notebook.save_checkpoint()})"
      ],
      "text/plain": [
       "<IPython.core.display.Javascript object>"
      ]
     },
     "metadata": {},
     "output_type": "display_data"
    },
    {
     "name": "stdout",
     "output_type": "stream",
     "text": [
      "[jovian] Attempting to save notebook..\u001b[0m\n",
      "[jovian] Updating notebook \"sathi-satb/crime-against-women\" on https://jovian.ml/\u001b[0m\n",
      "[jovian] Uploading notebook..\u001b[0m\n",
      "[jovian] Capturing environment..\u001b[0m\n",
      "[jovian] Committed successfully! https://jovian.ml/sathi-satb/crime-against-women\u001b[0m\n"
     ]
    },
    {
     "data": {
      "text/plain": [
       "'https://jovian.ml/sathi-satb/crime-against-women'"
      ]
     },
     "execution_count": 22,
     "metadata": {},
     "output_type": "execute_result"
    }
   ],
   "source": [
    "jovian.commit()"
   ]
  },
  {
   "cell_type": "markdown",
   "metadata": {},
   "source": [
    "# Exploratory Analysis and Visualization"
   ]
  },
  {
   "cell_type": "markdown",
   "metadata": {},
   "source": [
    "#### Let us find out the total population of women over the years, 2001-2014, who has been a victim of the crime based on their gender."
   ]
  },
  {
   "cell_type": "code",
   "execution_count": 23,
   "metadata": {},
   "outputs": [],
   "source": [
    "victims_raped = crimes_df.Rape.sum()\n",
    "victims_kidnapped_abducted = crimes_df.Kidnapping_Abduction.sum()\n",
    "dowery_death = crimes_df.Dowry_Deaths.sum()\n",
    "modesty_assault = crimes_df.Assault_for_her_modesty.sum()\n",
    "insult_to_modesty = crimes_df.Insult_to_modesty_of_Women.sum()\n",
    "domestic_violence = crimes_df.Domestic_violence.sum()\n",
    "girls_imported = crimes_df.Importation_of_Girls.sum()"
   ]
  },
  {
   "cell_type": "code",
   "execution_count": 24,
   "metadata": {},
   "outputs": [
    {
     "data": {
      "text/plain": [
       "5194570"
      ]
     },
     "execution_count": 24,
     "metadata": {},
     "output_type": "execute_result"
    }
   ],
   "source": [
    "total_population_of_victim_overall = victims_raped + victims_raped + dowery_death +modesty_assault+ insult_to_modesty + domestic_violence+ girls_imported\n",
    "total_population_of_victim_overall"
   ]
  },
  {
   "cell_type": "markdown",
   "metadata": {},
   "source": [
    "#### This above analysis potrays a heartbreaking situation of women in our society, as more than 5 million number of females, over the years 2001-2014, have been a victim of assault, violance, rape or even death, in India alone.  "
   ]
  },
  {
   "cell_type": "markdown",
   "metadata": {},
   "source": [
    "#### Now let us analyse the all the cases sepately by using bar graph. \n",
    "Note - For our ease, we are doing the analysis for six caterories, excluding the \"Insult_to_modesty_of_Women\" column."
   ]
  },
  {
   "cell_type": "code",
   "execution_count": 25,
   "metadata": {},
   "outputs": [
    {
     "data": {
      "text/plain": [
       "Text(0, 0.5, 'Cases ofImportation of girls in India')"
      ]
     },
     "execution_count": 25,
     "metadata": {},
     "output_type": "execute_result"
    },
    {
     "data": {
      "image/png": "[encoded data removed]",
      "text/plain": [
       "<Figure size 1800x864 with 6 Axes>"
      ]
     },
     "metadata": {
      "needs_background": "light"
     },
     "output_type": "display_data"
    }
   ],
   "source": [
    "fig, axes = plt.subplots(2, 3, figsize=(25, 12))\n",
    "\n",
    "axes[0,0].set_title(\"Chart of rape cases in India in 2001-2014\")\n",
    "axes[0,0].bar(crimes_df.Year, crimes_df.Rape, color = 'black');\n",
    "plt.xlabel('Year') #X-axis\n",
    "plt.ylabel('Cases of Rape in India') #Y-axis\n",
    "\n",
    "axes[0,1].set_title(\"Chart of Kidnapping and Abduction cases in India in 2001-2014\")\n",
    "axes[0,1].bar(crimes_df.Year, crimes_df.Kidnapping_Abduction, color = 'violet');\n",
    "plt.xlabel('Year') #X-axis\n",
    "plt.ylabel('Cases of Kidnapping and Abduction in India') #Y-axis\n",
    "\n",
    "axes[0,2].set_title(\"Chart of Dowry death cases in India in 2001-2014\")\n",
    "axes[0,2].bar(crimes_df.Year, crimes_df.Dowry_Deaths, color = 'navy');\n",
    "plt.xlabel('Year') #X-axis\n",
    "plt.ylabel('Cases of Dowry deaths in India') #Y-axis\n",
    "\n",
    "axes[1,0].set_title(\"Chart of Assault to her modesty in 2001-2014\")\n",
    "axes[1,0].bar(crimes_df.Year, crimes_df.Assault_for_her_modesty, color = 'cyan');\n",
    "plt.xlabel('Year') #X-axis\n",
    "plt.ylabel('Cases of Assaulting a women for her modesty in India') #Y-axis\n",
    "\n",
    "axes[1,1].set_title(\"Chart of Domestic Violence cases in India in 2001-2014\")\n",
    "axes[1,1].bar(crimes_df.Year, crimes_df.Domestic_violence, color = 'orange');\n",
    "plt.xlabel('Year') #X-axis\n",
    "plt.ylabel('Cases of Domestic Violence in India') #Y-axis\n",
    "\n",
    "axes[1,2].set_title(\"Chart of Importation of girls in India in 2001-2014\")\n",
    "axes[1,2].bar(crimes_df.Year, crimes_df.Domestic_violence, color = 'red');\n",
    "plt.xlabel('Year') #X-axis\n",
    "plt.ylabel('Cases ofImportation of girls in India') #Y-axis"
   ]
  },
  {
   "cell_type": "markdown",
   "metadata": {},
   "source": [
    "### There are two things to be concluded from the above bar chart -\n",
    "\n",
    "####      1) The cases have incraesed over the years.\n",
    "\n",
    "####       2) 2014 has been the year, where violance against women was reported the maximum, under each of the cases like, rape, domestic violence etc, which can also be proved below, which can also be cross examined with the code below."
   ]
  },
  {
   "cell_type": "code",
   "execution_count": 26,
   "metadata": {
    "scrolled": true
   },
   "outputs": [
    {
     "data": {
      "text/html": [
       "<div>\n",
       "<style scoped>\n",
       "    .dataframe tbody tr th:only-of-type {\n",
       "        vertical-align: middle;\n",
       "    }\n",
       "\n",
       "    .dataframe tbody tr th {\n",
       "        vertical-align: top;\n",
       "    }\n",
       "\n",
       "    .dataframe thead th {\n",
       "        text-align: right;\n",
       "    }\n",
       "</style>\n",
       "<table border=\"1\" class=\"dataframe\">\n",
       "  <thead>\n",
       "    <tr style=\"text-align: right;\">\n",
       "      <th></th>\n",
       "      <th>STATE/UT</th>\n",
       "    </tr>\n",
       "    <tr>\n",
       "      <th>Year</th>\n",
       "      <th></th>\n",
       "    </tr>\n",
       "  </thead>\n",
       "  <tbody>\n",
       "    <tr>\n",
       "      <th>2001</th>\n",
       "      <td>716</td>\n",
       "    </tr>\n",
       "    <tr>\n",
       "      <th>2002</th>\n",
       "      <td>719</td>\n",
       "    </tr>\n",
       "    <tr>\n",
       "      <th>2003</th>\n",
       "      <td>728</td>\n",
       "    </tr>\n",
       "    <tr>\n",
       "      <th>2004</th>\n",
       "      <td>729</td>\n",
       "    </tr>\n",
       "    <tr>\n",
       "      <th>2005</th>\n",
       "      <td>733</td>\n",
       "    </tr>\n",
       "    <tr>\n",
       "      <th>2006</th>\n",
       "      <td>740</td>\n",
       "    </tr>\n",
       "    <tr>\n",
       "      <th>2007</th>\n",
       "      <td>743</td>\n",
       "    </tr>\n",
       "    <tr>\n",
       "      <th>2008</th>\n",
       "      <td>761</td>\n",
       "    </tr>\n",
       "    <tr>\n",
       "      <th>2009</th>\n",
       "      <td>767</td>\n",
       "    </tr>\n",
       "    <tr>\n",
       "      <th>2010</th>\n",
       "      <td>779</td>\n",
       "    </tr>\n",
       "    <tr>\n",
       "      <th>2011</th>\n",
       "      <td>791</td>\n",
       "    </tr>\n",
       "    <tr>\n",
       "      <th>2012</th>\n",
       "      <td>811</td>\n",
       "    </tr>\n",
       "    <tr>\n",
       "      <th>2013</th>\n",
       "      <td>823</td>\n",
       "    </tr>\n",
       "    <tr>\n",
       "      <th>2014</th>\n",
       "      <td>837</td>\n",
       "    </tr>\n",
       "  </tbody>\n",
       "</table>\n",
       "</div>"
      ],
      "text/plain": [
       "      STATE/UT\n",
       "Year          \n",
       "2001       716\n",
       "2002       719\n",
       "2003       728\n",
       "2004       729\n",
       "2005       733\n",
       "2006       740\n",
       "2007       743\n",
       "2008       761\n",
       "2009       767\n",
       "2010       779\n",
       "2011       791\n",
       "2012       811\n",
       "2013       823\n",
       "2014       837"
      ]
     },
     "execution_count": 26,
     "metadata": {},
     "output_type": "execute_result"
    }
   ],
   "source": [
    "count_df = crimes_df.groupby('Year')[['STATE/UT']].count()\n",
    "count_df"
   ]
  },
  {
   "cell_type": "markdown",
   "metadata": {},
   "source": [
    "#### Let us use seaborn to take help of heatmap to represent how more cases from each state started coming up more frequently with each passing year."
   ]
  },
  {
   "cell_type": "code",
   "execution_count": 27,
   "metadata": {
    "scrolled": true
   },
   "outputs": [
    {
     "data": {
      "image/png": "[encoded data removed]",
      "text/plain": [
       "<Figure size 720x360 with 2 Axes>"
      ]
     },
     "metadata": {
      "needs_background": "light"
     },
     "output_type": "display_data"
    }
   ],
   "source": [
    "plt.figure(figsize=(10,5))\n",
    "plt.title(\"Total cases reported from every state Year wise\")\n",
    "sns.heatmap(count_df);"
   ]
  },
  {
   "cell_type": "markdown",
   "metadata": {},
   "source": [
    "### This heatmap shows how more number of state's name started appearing on the dataset, for reporting crimes and sadly the crime only increased with the passing year."
   ]
  },
  {
   "cell_type": "markdown",
   "metadata": {},
   "source": [
    "#### It gives us the conclusion that overall(cases under each category), from every state, has increased with time, not decreased."
   ]
  },
  {
   "cell_type": "code",
   "execution_count": 28,
   "metadata": {},
   "outputs": [],
   "source": [
    "import jovian"
   ]
  },
  {
   "cell_type": "code",
   "execution_count": 29,
   "metadata": {},
   "outputs": [
    {
     "data": {
      "application/javascript": [
       "window.require && require([\"base/js/namespace\"],function(Jupyter){Jupyter.notebook.save_checkpoint()})"
      ],
      "text/plain": [
       "<IPython.core.display.Javascript object>"
      ]
     },
     "metadata": {},
     "output_type": "display_data"
    },
    {
     "name": "stdout",
     "output_type": "stream",
     "text": [
      "[jovian] Attempting to save notebook..\u001b[0m\n",
      "[jovian] Updating notebook \"sathi-satb/crime-against-women\" on https://jovian.ml/\u001b[0m\n",
      "[jovian] Uploading notebook..\u001b[0m\n",
      "[jovian] Capturing environment..\u001b[0m\n",
      "[jovian] Committed successfully! https://jovian.ml/sathi-satb/crime-against-women\u001b[0m\n"
     ]
    },
    {
     "data": {
      "text/plain": [
       "'https://jovian.ml/sathi-satb/crime-against-women'"
      ]
     },
     "execution_count": 29,
     "metadata": {},
     "output_type": "execute_result"
    }
   ],
   "source": [
    "jovian.commit()"
   ]
  },
  {
   "cell_type": "markdown",
   "metadata": {},
   "source": [
    "# Asking and Answering Questions"
   ]
  },
  {
   "cell_type": "markdown",
   "metadata": {},
   "source": [
    "### As part of this data analysis, it is very crucial to raise question and find answer to them. Here we will try to find out some of the most essential questions, that will help us in drawing a major conclusion from our dataset.\n",
    "\n",
    "##### Note - We will be focusing on four major categories for the rest of the analysis, excluding \"Assault_for_her_modesty\" and \"Insult_to_modesty_of_Women\"."
   ]
  },
  {
   "cell_type": "code",
   "execution_count": 30,
   "metadata": {},
   "outputs": [],
   "source": [
    "crimes_df = crimes_df.drop(['Assault_for_her_modesty', 'Insult_to_modesty_of_Women'], axis=1)"
   ]
  },
  {
   "cell_type": "markdown",
   "metadata": {},
   "source": [
    "#### Q . Create a dataframe containing 10 highest reported rape cases in India, in the span of year 2001-2014."
   ]
  },
  {
   "cell_type": "code",
   "execution_count": 31,
   "metadata": {},
   "outputs": [
    {
     "data": {
      "text/html": [
       "<div>\n",
       "<style scoped>\n",
       "    .dataframe tbody tr th:only-of-type {\n",
       "        vertical-align: middle;\n",
       "    }\n",
       "\n",
       "    .dataframe tbody tr th {\n",
       "        vertical-align: top;\n",
       "    }\n",
       "\n",
       "    .dataframe thead th {\n",
       "        text-align: right;\n",
       "    }\n",
       "</style>\n",
       "<table border=\"1\" class=\"dataframe\">\n",
       "  <thead>\n",
       "    <tr style=\"text-align: right;\">\n",
       "      <th></th>\n",
       "      <th>STATE/UT</th>\n",
       "      <th>Year</th>\n",
       "      <th>Rape</th>\n",
       "      <th>Kidnapping_Abduction</th>\n",
       "      <th>Dowry_Deaths</th>\n",
       "      <th>Domestic_violence</th>\n",
       "      <th>Importation_of_Girls</th>\n",
       "    </tr>\n",
       "  </thead>\n",
       "  <tbody>\n",
       "    <tr>\n",
       "      <th>10244</th>\n",
       "      <td>MADHYA PRADESH</td>\n",
       "      <td>2014</td>\n",
       "      <td>5076</td>\n",
       "      <td>5688</td>\n",
       "      <td>733</td>\n",
       "      <td>6451</td>\n",
       "      <td>0</td>\n",
       "    </tr>\n",
       "    <tr>\n",
       "      <th>9426</th>\n",
       "      <td>MADHYA PRADESH</td>\n",
       "      <td>2013</td>\n",
       "      <td>4335</td>\n",
       "      <td>2873</td>\n",
       "      <td>776</td>\n",
       "      <td>4988</td>\n",
       "      <td>7</td>\n",
       "    </tr>\n",
       "    <tr>\n",
       "      <th>10445</th>\n",
       "      <td>RAJASTHAN</td>\n",
       "      <td>2014</td>\n",
       "      <td>3759</td>\n",
       "      <td>4421</td>\n",
       "      <td>408</td>\n",
       "      <td>15905</td>\n",
       "      <td>0</td>\n",
       "    </tr>\n",
       "    <tr>\n",
       "      <th>10595</th>\n",
       "      <td>UTTAR PRADESH</td>\n",
       "      <td>2014</td>\n",
       "      <td>3467</td>\n",
       "      <td>10626</td>\n",
       "      <td>2469</td>\n",
       "      <td>10471</td>\n",
       "      <td>0</td>\n",
       "    </tr>\n",
       "    <tr>\n",
       "      <th>10291</th>\n",
       "      <td>MAHARASHTRA</td>\n",
       "      <td>2014</td>\n",
       "      <td>3438</td>\n",
       "      <td>2457</td>\n",
       "      <td>279</td>\n",
       "      <td>7696</td>\n",
       "      <td>1</td>\n",
       "    </tr>\n",
       "    <tr>\n",
       "      <th>8611</th>\n",
       "      <td>MADHYA PRADESH</td>\n",
       "      <td>2012</td>\n",
       "      <td>3425</td>\n",
       "      <td>1127</td>\n",
       "      <td>743</td>\n",
       "      <td>3988</td>\n",
       "      <td>6</td>\n",
       "    </tr>\n",
       "    <tr>\n",
       "      <th>7810</th>\n",
       "      <td>MADHYA PRADESH</td>\n",
       "      <td>2011</td>\n",
       "      <td>3406</td>\n",
       "      <td>1088</td>\n",
       "      <td>811</td>\n",
       "      <td>3732</td>\n",
       "      <td>45</td>\n",
       "    </tr>\n",
       "    <tr>\n",
       "      <th>9628</th>\n",
       "      <td>RAJASTHAN</td>\n",
       "      <td>2013</td>\n",
       "      <td>3285</td>\n",
       "      <td>4047</td>\n",
       "      <td>453</td>\n",
       "      <td>15094</td>\n",
       "      <td>1</td>\n",
       "    </tr>\n",
       "    <tr>\n",
       "      <th>7025</th>\n",
       "      <td>MADHYA PRADESH</td>\n",
       "      <td>2010</td>\n",
       "      <td>3135</td>\n",
       "      <td>1030</td>\n",
       "      <td>892</td>\n",
       "      <td>3756</td>\n",
       "      <td>5</td>\n",
       "    </tr>\n",
       "    <tr>\n",
       "      <th>9472</th>\n",
       "      <td>MAHARASHTRA</td>\n",
       "      <td>2013</td>\n",
       "      <td>3063</td>\n",
       "      <td>1874</td>\n",
       "      <td>320</td>\n",
       "      <td>8542</td>\n",
       "      <td>0</td>\n",
       "    </tr>\n",
       "  </tbody>\n",
       "</table>\n",
       "</div>"
      ],
      "text/plain": [
       "             STATE/UT  Year  Rape  Kidnapping_Abduction  Dowry_Deaths  \\\n",
       "10244  MADHYA PRADESH  2014  5076                  5688           733   \n",
       "9426   MADHYA PRADESH  2013  4335                  2873           776   \n",
       "10445       RAJASTHAN  2014  3759                  4421           408   \n",
       "10595   UTTAR PRADESH  2014  3467                 10626          2469   \n",
       "10291     MAHARASHTRA  2014  3438                  2457           279   \n",
       "8611   MADHYA PRADESH  2012  3425                  1127           743   \n",
       "7810   MADHYA PRADESH  2011  3406                  1088           811   \n",
       "9628        RAJASTHAN  2013  3285                  4047           453   \n",
       "7025   MADHYA PRADESH  2010  3135                  1030           892   \n",
       "9472      MAHARASHTRA  2013  3063                  1874           320   \n",
       "\n",
       "       Domestic_violence  Importation_of_Girls  \n",
       "10244               6451                     0  \n",
       "9426                4988                     7  \n",
       "10445              15905                     0  \n",
       "10595              10471                     0  \n",
       "10291               7696                     1  \n",
       "8611                3988                     6  \n",
       "7810                3732                    45  \n",
       "9628               15094                     1  \n",
       "7025                3756                     5  \n",
       "9472                8542                     0  "
      ]
     },
     "execution_count": 31,
     "metadata": {},
     "output_type": "execute_result"
    }
   ],
   "source": [
    "max_rape_cases = crimes_df.sort_values('Rape', ascending = False).head(10)\n",
    "max_rape_cases"
   ]
  },
  {
   "cell_type": "markdown",
   "metadata": {},
   "source": [
    "#### We see from the analysis, the top states that reported the maximum number of rape cases, along with the year, in which they occured.\n",
    "#### Where, Madhya Pradesh reported the maximum rape cases in the year 2014."
   ]
  },
  {
   "cell_type": "markdown",
   "metadata": {},
   "source": [
    "### Q. Create a dataframe containing 10 highest reported deaths caused by Dowry cases in India, in the span of year 2001-2014."
   ]
  },
  {
   "cell_type": "code",
   "execution_count": 32,
   "metadata": {},
   "outputs": [
    {
     "data": {
      "text/html": [
       "<div>\n",
       "<style scoped>\n",
       "    .dataframe tbody tr th:only-of-type {\n",
       "        vertical-align: middle;\n",
       "    }\n",
       "\n",
       "    .dataframe tbody tr th {\n",
       "        vertical-align: top;\n",
       "    }\n",
       "\n",
       "    .dataframe thead th {\n",
       "        text-align: right;\n",
       "    }\n",
       "</style>\n",
       "<table border=\"1\" class=\"dataframe\">\n",
       "  <thead>\n",
       "    <tr style=\"text-align: right;\">\n",
       "      <th></th>\n",
       "      <th>STATE/UT</th>\n",
       "      <th>Year</th>\n",
       "      <th>Rape</th>\n",
       "      <th>Kidnapping_Abduction</th>\n",
       "      <th>Dowry_Deaths</th>\n",
       "      <th>Domestic_violence</th>\n",
       "      <th>Importation_of_Girls</th>\n",
       "    </tr>\n",
       "  </thead>\n",
       "  <tbody>\n",
       "    <tr>\n",
       "      <th>10595</th>\n",
       "      <td>UTTAR PRADESH</td>\n",
       "      <td>2014</td>\n",
       "      <td>3467</td>\n",
       "      <td>10626</td>\n",
       "      <td>2469</td>\n",
       "      <td>10471</td>\n",
       "      <td>0</td>\n",
       "    </tr>\n",
       "    <tr>\n",
       "      <th>9760</th>\n",
       "      <td>UTTAR PRADESH</td>\n",
       "      <td>2013</td>\n",
       "      <td>3050</td>\n",
       "      <td>9737</td>\n",
       "      <td>2335</td>\n",
       "      <td>8781</td>\n",
       "      <td>0</td>\n",
       "    </tr>\n",
       "    <tr>\n",
       "      <th>8132</th>\n",
       "      <td>UTTAR PRADESH</td>\n",
       "      <td>2011</td>\n",
       "      <td>2042</td>\n",
       "      <td>7525</td>\n",
       "      <td>2322</td>\n",
       "      <td>7121</td>\n",
       "      <td>0</td>\n",
       "    </tr>\n",
       "    <tr>\n",
       "      <th>8938</th>\n",
       "      <td>UTTAR PRADESH</td>\n",
       "      <td>2012</td>\n",
       "      <td>1963</td>\n",
       "      <td>7910</td>\n",
       "      <td>2244</td>\n",
       "      <td>7661</td>\n",
       "      <td>0</td>\n",
       "    </tr>\n",
       "    <tr>\n",
       "      <th>5796</th>\n",
       "      <td>UTTAR PRADESH</td>\n",
       "      <td>2008</td>\n",
       "      <td>1871</td>\n",
       "      <td>4439</td>\n",
       "      <td>2237</td>\n",
       "      <td>8312</td>\n",
       "      <td>0</td>\n",
       "    </tr>\n",
       "    <tr>\n",
       "      <th>6563</th>\n",
       "      <td>UTTAR PRADESH</td>\n",
       "      <td>2009</td>\n",
       "      <td>1759</td>\n",
       "      <td>5078</td>\n",
       "      <td>2232</td>\n",
       "      <td>8566</td>\n",
       "      <td>0</td>\n",
       "    </tr>\n",
       "    <tr>\n",
       "      <th>7342</th>\n",
       "      <td>UTTAR PRADESH</td>\n",
       "      <td>2010</td>\n",
       "      <td>1563</td>\n",
       "      <td>5468</td>\n",
       "      <td>2217</td>\n",
       "      <td>7978</td>\n",
       "      <td>0</td>\n",
       "    </tr>\n",
       "    <tr>\n",
       "      <th>650</th>\n",
       "      <td>UTTAR PRADESH</td>\n",
       "      <td>2001</td>\n",
       "      <td>1958</td>\n",
       "      <td>2879</td>\n",
       "      <td>2211</td>\n",
       "      <td>7365</td>\n",
       "      <td>0</td>\n",
       "    </tr>\n",
       "    <tr>\n",
       "      <th>5040</th>\n",
       "      <td>UTTAR PRADESH</td>\n",
       "      <td>2007</td>\n",
       "      <td>1648</td>\n",
       "      <td>3363</td>\n",
       "      <td>2076</td>\n",
       "      <td>7650</td>\n",
       "      <td>0</td>\n",
       "    </tr>\n",
       "    <tr>\n",
       "      <th>1366</th>\n",
       "      <td>UTTAR PRADESH</td>\n",
       "      <td>2002</td>\n",
       "      <td>1415</td>\n",
       "      <td>2298</td>\n",
       "      <td>1893</td>\n",
       "      <td>5679</td>\n",
       "      <td>0</td>\n",
       "    </tr>\n",
       "  </tbody>\n",
       "</table>\n",
       "</div>"
      ],
      "text/plain": [
       "            STATE/UT  Year  Rape  Kidnapping_Abduction  Dowry_Deaths  \\\n",
       "10595  UTTAR PRADESH  2014  3467                 10626          2469   \n",
       "9760   UTTAR PRADESH  2013  3050                  9737          2335   \n",
       "8132   UTTAR PRADESH  2011  2042                  7525          2322   \n",
       "8938   UTTAR PRADESH  2012  1963                  7910          2244   \n",
       "5796   UTTAR PRADESH  2008  1871                  4439          2237   \n",
       "6563   UTTAR PRADESH  2009  1759                  5078          2232   \n",
       "7342   UTTAR PRADESH  2010  1563                  5468          2217   \n",
       "650    UTTAR PRADESH  2001  1958                  2879          2211   \n",
       "5040   UTTAR PRADESH  2007  1648                  3363          2076   \n",
       "1366   UTTAR PRADESH  2002  1415                  2298          1893   \n",
       "\n",
       "       Domestic_violence  Importation_of_Girls  \n",
       "10595              10471                     0  \n",
       "9760                8781                     0  \n",
       "8132                7121                     0  \n",
       "8938                7661                     0  \n",
       "5796                8312                     0  \n",
       "6563                8566                     0  \n",
       "7342                7978                     0  \n",
       "650                 7365                     0  \n",
       "5040                7650                     0  \n",
       "1366                5679                     0  "
      ]
     },
     "execution_count": 32,
     "metadata": {},
     "output_type": "execute_result"
    }
   ],
   "source": [
    "max_dowry_death_cases = crimes_df.sort_values('Dowry_Deaths', ascending = False).head(10)\n",
    "max_dowry_death_cases"
   ]
  },
  {
   "cell_type": "markdown",
   "metadata": {},
   "source": [
    "#### From our analysis, we observe that the highest reported dowry death was in Uttar Pradesh in 2014, with number of reports being 2469.\n",
    "\n",
    "##### One more here to be observed as well is that, Uttar Pradesh is the ONLY state that appears in this list."
   ]
  },
  {
   "cell_type": "markdown",
   "metadata": {},
   "source": [
    "### Q. Create a dataframe containing 10 highest reported Domestic Violance cases in India, in the span of year 2001-2014."
   ]
  },
  {
   "cell_type": "code",
   "execution_count": 33,
   "metadata": {},
   "outputs": [
    {
     "data": {
      "text/html": [
       "<div>\n",
       "<style scoped>\n",
       "    .dataframe tbody tr th:only-of-type {\n",
       "        vertical-align: middle;\n",
       "    }\n",
       "\n",
       "    .dataframe tbody tr th {\n",
       "        vertical-align: top;\n",
       "    }\n",
       "\n",
       "    .dataframe thead th {\n",
       "        text-align: right;\n",
       "    }\n",
       "</style>\n",
       "<table border=\"1\" class=\"dataframe\">\n",
       "  <thead>\n",
       "    <tr style=\"text-align: right;\">\n",
       "      <th></th>\n",
       "      <th>STATE/UT</th>\n",
       "      <th>Year</th>\n",
       "      <th>Rape</th>\n",
       "      <th>Kidnapping_Abduction</th>\n",
       "      <th>Dowry_Deaths</th>\n",
       "      <th>Domestic_violence</th>\n",
       "      <th>Importation_of_Girls</th>\n",
       "    </tr>\n",
       "  </thead>\n",
       "  <tbody>\n",
       "    <tr>\n",
       "      <th>10640</th>\n",
       "      <td>WEST BENGAL</td>\n",
       "      <td>2014</td>\n",
       "      <td>1466</td>\n",
       "      <td>4976</td>\n",
       "      <td>501</td>\n",
       "      <td>23278</td>\n",
       "      <td>4</td>\n",
       "    </tr>\n",
       "    <tr>\n",
       "      <th>8982</th>\n",
       "      <td>WEST BENGAL</td>\n",
       "      <td>2012</td>\n",
       "      <td>2046</td>\n",
       "      <td>4168</td>\n",
       "      <td>593</td>\n",
       "      <td>19865</td>\n",
       "      <td>12</td>\n",
       "    </tr>\n",
       "    <tr>\n",
       "      <th>8172</th>\n",
       "      <td>WEST BENGAL</td>\n",
       "      <td>2011</td>\n",
       "      <td>2363</td>\n",
       "      <td>3711</td>\n",
       "      <td>510</td>\n",
       "      <td>19772</td>\n",
       "      <td>0</td>\n",
       "    </tr>\n",
       "    <tr>\n",
       "      <th>9804</th>\n",
       "      <td>WEST BENGAL</td>\n",
       "      <td>2013</td>\n",
       "      <td>1685</td>\n",
       "      <td>3830</td>\n",
       "      <td>481</td>\n",
       "      <td>18116</td>\n",
       "      <td>9</td>\n",
       "    </tr>\n",
       "    <tr>\n",
       "      <th>7381</th>\n",
       "      <td>WEST BENGAL</td>\n",
       "      <td>2010</td>\n",
       "      <td>2311</td>\n",
       "      <td>2764</td>\n",
       "      <td>507</td>\n",
       "      <td>17796</td>\n",
       "      <td>8</td>\n",
       "    </tr>\n",
       "    <tr>\n",
       "      <th>6602</th>\n",
       "      <td>WEST BENGAL</td>\n",
       "      <td>2009</td>\n",
       "      <td>2336</td>\n",
       "      <td>2187</td>\n",
       "      <td>506</td>\n",
       "      <td>16112</td>\n",
       "      <td>5</td>\n",
       "    </tr>\n",
       "    <tr>\n",
       "      <th>10445</th>\n",
       "      <td>RAJASTHAN</td>\n",
       "      <td>2014</td>\n",
       "      <td>3759</td>\n",
       "      <td>4421</td>\n",
       "      <td>408</td>\n",
       "      <td>15905</td>\n",
       "      <td>0</td>\n",
       "    </tr>\n",
       "    <tr>\n",
       "      <th>9628</th>\n",
       "      <td>RAJASTHAN</td>\n",
       "      <td>2013</td>\n",
       "      <td>3285</td>\n",
       "      <td>4047</td>\n",
       "      <td>453</td>\n",
       "      <td>15094</td>\n",
       "      <td>1</td>\n",
       "    </tr>\n",
       "    <tr>\n",
       "      <th>9050</th>\n",
       "      <td>ANDHRA PRADESH</td>\n",
       "      <td>2013</td>\n",
       "      <td>1635</td>\n",
       "      <td>1595</td>\n",
       "      <td>492</td>\n",
       "      <td>15084</td>\n",
       "      <td>0</td>\n",
       "    </tr>\n",
       "    <tr>\n",
       "      <th>5835</th>\n",
       "      <td>WEST BENGAL</td>\n",
       "      <td>2008</td>\n",
       "      <td>2263</td>\n",
       "      <td>1907</td>\n",
       "      <td>451</td>\n",
       "      <td>13663</td>\n",
       "      <td>5</td>\n",
       "    </tr>\n",
       "  </tbody>\n",
       "</table>\n",
       "</div>"
      ],
      "text/plain": [
       "             STATE/UT  Year  Rape  Kidnapping_Abduction  Dowry_Deaths  \\\n",
       "10640     WEST BENGAL  2014  1466                  4976           501   \n",
       "8982      WEST BENGAL  2012  2046                  4168           593   \n",
       "8172      WEST BENGAL  2011  2363                  3711           510   \n",
       "9804      WEST BENGAL  2013  1685                  3830           481   \n",
       "7381      WEST BENGAL  2010  2311                  2764           507   \n",
       "6602      WEST BENGAL  2009  2336                  2187           506   \n",
       "10445       RAJASTHAN  2014  3759                  4421           408   \n",
       "9628        RAJASTHAN  2013  3285                  4047           453   \n",
       "9050   ANDHRA PRADESH  2013  1635                  1595           492   \n",
       "5835      WEST BENGAL  2008  2263                  1907           451   \n",
       "\n",
       "       Domestic_violence  Importation_of_Girls  \n",
       "10640              23278                     4  \n",
       "8982               19865                    12  \n",
       "8172               19772                     0  \n",
       "9804               18116                     9  \n",
       "7381               17796                     8  \n",
       "6602               16112                     5  \n",
       "10445              15905                     0  \n",
       "9628               15094                     1  \n",
       "9050               15084                     0  \n",
       "5835               13663                     5  "
      ]
     },
     "execution_count": 33,
     "metadata": {},
     "output_type": "execute_result"
    }
   ],
   "source": [
    "max_domestic_violance_cases = crimes_df.sort_values('Domestic_violence', ascending = False).head(10)\n",
    "max_domestic_violance_cases"
   ]
  },
  {
   "cell_type": "markdown",
   "metadata": {},
   "source": [
    "#### According to our analysis, we see the maximum cases of Domestic Violance cases came from West Bengal in the year 2014, with number of cases reported being 23278."
   ]
  },
  {
   "cell_type": "markdown",
   "metadata": {},
   "source": [
    "### Q. Create a dataframe containing 10 highest reported Importation cases in India, in the span of year 2001-2014."
   ]
  },
  {
   "cell_type": "code",
   "execution_count": 34,
   "metadata": {},
   "outputs": [
    {
     "data": {
      "text/html": [
       "<div>\n",
       "<style scoped>\n",
       "    .dataframe tbody tr th:only-of-type {\n",
       "        vertical-align: middle;\n",
       "    }\n",
       "\n",
       "    .dataframe tbody tr th {\n",
       "        vertical-align: top;\n",
       "    }\n",
       "\n",
       "    .dataframe thead th {\n",
       "        text-align: right;\n",
       "    }\n",
       "</style>\n",
       "<table border=\"1\" class=\"dataframe\">\n",
       "  <thead>\n",
       "    <tr style=\"text-align: right;\">\n",
       "      <th></th>\n",
       "      <th>STATE/UT</th>\n",
       "      <th>Year</th>\n",
       "      <th>Rape</th>\n",
       "      <th>Kidnapping_Abduction</th>\n",
       "      <th>Dowry_Deaths</th>\n",
       "      <th>Domestic_violence</th>\n",
       "      <th>Importation_of_Girls</th>\n",
       "    </tr>\n",
       "  </thead>\n",
       "  <tbody>\n",
       "    <tr>\n",
       "      <th>115</th>\n",
       "      <td>BIHAR</td>\n",
       "      <td>2001</td>\n",
       "      <td>888</td>\n",
       "      <td>518</td>\n",
       "      <td>859</td>\n",
       "      <td>1558</td>\n",
       "      <td>83</td>\n",
       "    </tr>\n",
       "    <tr>\n",
       "      <th>3013</th>\n",
       "      <td>BIHAR</td>\n",
       "      <td>2005</td>\n",
       "      <td>1147</td>\n",
       "      <td>929</td>\n",
       "      <td>1014</td>\n",
       "      <td>1574</td>\n",
       "      <td>74</td>\n",
       "    </tr>\n",
       "    <tr>\n",
       "      <th>3597</th>\n",
       "      <td>WEST BENGAL</td>\n",
       "      <td>2005</td>\n",
       "      <td>1686</td>\n",
       "      <td>1039</td>\n",
       "      <td>446</td>\n",
       "      <td>6936</td>\n",
       "      <td>61</td>\n",
       "    </tr>\n",
       "    <tr>\n",
       "      <th>3590</th>\n",
       "      <td>WEST BENGAL</td>\n",
       "      <td>2005</td>\n",
       "      <td>148</td>\n",
       "      <td>97</td>\n",
       "      <td>48</td>\n",
       "      <td>545</td>\n",
       "      <td>60</td>\n",
       "    </tr>\n",
       "    <tr>\n",
       "      <th>4486</th>\n",
       "      <td>BIHAR</td>\n",
       "      <td>2007</td>\n",
       "      <td>1555</td>\n",
       "      <td>1260</td>\n",
       "      <td>1172</td>\n",
       "      <td>1635</td>\n",
       "      <td>56</td>\n",
       "    </tr>\n",
       "    <tr>\n",
       "      <th>3005</th>\n",
       "      <td>BIHAR</td>\n",
       "      <td>2005</td>\n",
       "      <td>28</td>\n",
       "      <td>4</td>\n",
       "      <td>40</td>\n",
       "      <td>73</td>\n",
       "      <td>48</td>\n",
       "    </tr>\n",
       "    <tr>\n",
       "      <th>7810</th>\n",
       "      <td>MADHYA PRADESH</td>\n",
       "      <td>2011</td>\n",
       "      <td>3406</td>\n",
       "      <td>1088</td>\n",
       "      <td>811</td>\n",
       "      <td>3732</td>\n",
       "      <td>45</td>\n",
       "    </tr>\n",
       "    <tr>\n",
       "      <th>3746</th>\n",
       "      <td>BIHAR</td>\n",
       "      <td>2006</td>\n",
       "      <td>1232</td>\n",
       "      <td>1084</td>\n",
       "      <td>1188</td>\n",
       "      <td>1689</td>\n",
       "      <td>42</td>\n",
       "    </tr>\n",
       "    <tr>\n",
       "      <th>102</th>\n",
       "      <td>BIHAR</td>\n",
       "      <td>2001</td>\n",
       "      <td>27</td>\n",
       "      <td>11</td>\n",
       "      <td>90</td>\n",
       "      <td>152</td>\n",
       "      <td>39</td>\n",
       "    </tr>\n",
       "    <tr>\n",
       "      <th>5378</th>\n",
       "      <td>JHARKHAND</td>\n",
       "      <td>2008</td>\n",
       "      <td>791</td>\n",
       "      <td>499</td>\n",
       "      <td>266</td>\n",
       "      <td>851</td>\n",
       "      <td>39</td>\n",
       "    </tr>\n",
       "  </tbody>\n",
       "</table>\n",
       "</div>"
      ],
      "text/plain": [
       "            STATE/UT  Year  Rape  Kidnapping_Abduction  Dowry_Deaths  \\\n",
       "115            BIHAR  2001   888                   518           859   \n",
       "3013           BIHAR  2005  1147                   929          1014   \n",
       "3597     WEST BENGAL  2005  1686                  1039           446   \n",
       "3590     WEST BENGAL  2005   148                    97            48   \n",
       "4486           BIHAR  2007  1555                  1260          1172   \n",
       "3005           BIHAR  2005    28                     4            40   \n",
       "7810  MADHYA PRADESH  2011  3406                  1088           811   \n",
       "3746           BIHAR  2006  1232                  1084          1188   \n",
       "102            BIHAR  2001    27                    11            90   \n",
       "5378       JHARKHAND  2008   791                   499           266   \n",
       "\n",
       "      Domestic_violence  Importation_of_Girls  \n",
       "115                1558                    83  \n",
       "3013               1574                    74  \n",
       "3597               6936                    61  \n",
       "3590                545                    60  \n",
       "4486               1635                    56  \n",
       "3005                 73                    48  \n",
       "7810               3732                    45  \n",
       "3746               1689                    42  \n",
       "102                 152                    39  \n",
       "5378                851                    39  "
      ]
     },
     "execution_count": 34,
     "metadata": {},
     "output_type": "execute_result"
    }
   ],
   "source": [
    "max_importation_case = crimes_df.sort_values('Importation_of_Girls', ascending = False).head(10)\n",
    "max_importation_case"
   ]
  },
  {
   "cell_type": "markdown",
   "metadata": {},
   "source": [
    "#### According to our analysis, maximum of Importation of girls has been reported in Bihar in the year 2011"
   ]
  },
  {
   "cell_type": "markdown",
   "metadata": {},
   "source": [
    "### Q. Find out the total number of cases, in span of 2001-2014 under each category, state wise."
   ]
  },
  {
   "cell_type": "code",
   "execution_count": 35,
   "metadata": {},
   "outputs": [
    {
     "data": {
      "text/html": [
       "<div>\n",
       "<style scoped>\n",
       "    .dataframe tbody tr th:only-of-type {\n",
       "        vertical-align: middle;\n",
       "    }\n",
       "\n",
       "    .dataframe tbody tr th {\n",
       "        vertical-align: top;\n",
       "    }\n",
       "\n",
       "    .dataframe thead th {\n",
       "        text-align: right;\n",
       "    }\n",
       "</style>\n",
       "<table border=\"1\" class=\"dataframe\">\n",
       "  <thead>\n",
       "    <tr style=\"text-align: right;\">\n",
       "      <th></th>\n",
       "      <th>Rape</th>\n",
       "      <th>Kidnapping_Abduction</th>\n",
       "      <th>Dowry_Deaths</th>\n",
       "      <th>Domestic_violence</th>\n",
       "      <th>Importation_of_Girls</th>\n",
       "    </tr>\n",
       "    <tr>\n",
       "      <th>STATE/UT</th>\n",
       "      <th></th>\n",
       "      <th></th>\n",
       "      <th></th>\n",
       "      <th></th>\n",
       "      <th></th>\n",
       "    </tr>\n",
       "  </thead>\n",
       "  <tbody>\n",
       "    <tr>\n",
       "      <th>A &amp; N ISLANDS</th>\n",
       "      <td>336</td>\n",
       "      <td>212</td>\n",
       "      <td>20</td>\n",
       "      <td>288</td>\n",
       "      <td>0</td>\n",
       "    </tr>\n",
       "    <tr>\n",
       "      <th>ANDHRA PRADESH</th>\n",
       "      <td>32150</td>\n",
       "      <td>34504</td>\n",
       "      <td>13844</td>\n",
       "      <td>280906</td>\n",
       "      <td>34</td>\n",
       "    </tr>\n",
       "    <tr>\n",
       "      <th>ARUNACHAL PRADESH</th>\n",
       "      <td>1316</td>\n",
       "      <td>1470</td>\n",
       "      <td>6</td>\n",
       "      <td>476</td>\n",
       "      <td>0</td>\n",
       "    </tr>\n",
       "    <tr>\n",
       "      <th>ASSAM</th>\n",
       "      <td>40190</td>\n",
       "      <td>62074</td>\n",
       "      <td>3268</td>\n",
       "      <td>115300</td>\n",
       "      <td>22</td>\n",
       "    </tr>\n",
       "    <tr>\n",
       "      <th>BIHAR</th>\n",
       "      <td>30758</td>\n",
       "      <td>57086</td>\n",
       "      <td>32206</td>\n",
       "      <td>69770</td>\n",
       "      <td>904</td>\n",
       "    </tr>\n",
       "    <tr>\n",
       "      <th>CHANDIGARH</th>\n",
       "      <td>770</td>\n",
       "      <td>1682</td>\n",
       "      <td>90</td>\n",
       "      <td>2080</td>\n",
       "      <td>0</td>\n",
       "    </tr>\n",
       "    <tr>\n",
       "      <th>CHHATTISGARH</th>\n",
       "      <td>29308</td>\n",
       "      <td>11808</td>\n",
       "      <td>2758</td>\n",
       "      <td>23436</td>\n",
       "      <td>12</td>\n",
       "    </tr>\n",
       "    <tr>\n",
       "      <th>D &amp; N HAVELI</th>\n",
       "      <td>132</td>\n",
       "      <td>224</td>\n",
       "      <td>2</td>\n",
       "      <td>90</td>\n",
       "      <td>0</td>\n",
       "    </tr>\n",
       "    <tr>\n",
       "      <th>DAMAN &amp; DIU</th>\n",
       "      <td>60</td>\n",
       "      <td>44</td>\n",
       "      <td>6</td>\n",
       "      <td>76</td>\n",
       "      <td>0</td>\n",
       "    </tr>\n",
       "    <tr>\n",
       "      <th>DELHI</th>\n",
       "      <td>20312</td>\n",
       "      <td>46586</td>\n",
       "      <td>3758</td>\n",
       "      <td>42834</td>\n",
       "      <td>2</td>\n",
       "    </tr>\n",
       "    <tr>\n",
       "      <th>GOA</th>\n",
       "      <td>1062</td>\n",
       "      <td>640</td>\n",
       "      <td>38</td>\n",
       "      <td>532</td>\n",
       "      <td>0</td>\n",
       "    </tr>\n",
       "    <tr>\n",
       "      <th>GUJARAT</th>\n",
       "      <td>11644</td>\n",
       "      <td>34670</td>\n",
       "      <td>1108</td>\n",
       "      <td>146468</td>\n",
       "      <td>0</td>\n",
       "    </tr>\n",
       "    <tr>\n",
       "      <th>HARYANA</th>\n",
       "      <td>17110</td>\n",
       "      <td>20016</td>\n",
       "      <td>7372</td>\n",
       "      <td>68414</td>\n",
       "      <td>4</td>\n",
       "    </tr>\n",
       "    <tr>\n",
       "      <th>HIMACHAL PRADESH</th>\n",
       "      <td>4674</td>\n",
       "      <td>4116</td>\n",
       "      <td>112</td>\n",
       "      <td>7796</td>\n",
       "      <td>0</td>\n",
       "    </tr>\n",
       "    <tr>\n",
       "      <th>JAMMU &amp; KASHMIR</th>\n",
       "      <td>7038</td>\n",
       "      <td>21164</td>\n",
       "      <td>294</td>\n",
       "      <td>5390</td>\n",
       "      <td>0</td>\n",
       "    </tr>\n",
       "    <tr>\n",
       "      <th>JHARKHAND</th>\n",
       "      <td>22826</td>\n",
       "      <td>14186</td>\n",
       "      <td>7896</td>\n",
       "      <td>23910</td>\n",
       "      <td>298</td>\n",
       "    </tr>\n",
       "    <tr>\n",
       "      <th>KARNATAKA</th>\n",
       "      <td>15056</td>\n",
       "      <td>16262</td>\n",
       "      <td>7016</td>\n",
       "      <td>72706</td>\n",
       "      <td>94</td>\n",
       "    </tr>\n",
       "    <tr>\n",
       "      <th>KERALA</th>\n",
       "      <td>20030</td>\n",
       "      <td>4452</td>\n",
       "      <td>700</td>\n",
       "      <td>111626</td>\n",
       "      <td>0</td>\n",
       "    </tr>\n",
       "    <tr>\n",
       "      <th>LAKSHADWEEP</th>\n",
       "      <td>20</td>\n",
       "      <td>2</td>\n",
       "      <td>0</td>\n",
       "      <td>14</td>\n",
       "      <td>0</td>\n",
       "    </tr>\n",
       "    <tr>\n",
       "      <th>MADHYA PRADESH</th>\n",
       "      <td>90996</td>\n",
       "      <td>35608</td>\n",
       "      <td>21090</td>\n",
       "      <td>102816</td>\n",
       "      <td>134</td>\n",
       "    </tr>\n",
       "    <tr>\n",
       "      <th>MAHARASHTRA</th>\n",
       "      <td>48974</td>\n",
       "      <td>30368</td>\n",
       "      <td>9696</td>\n",
       "      <td>193202</td>\n",
       "      <td>6</td>\n",
       "    </tr>\n",
       "    <tr>\n",
       "      <th>MANIPUR</th>\n",
       "      <td>1068</td>\n",
       "      <td>2606</td>\n",
       "      <td>6</td>\n",
       "      <td>578</td>\n",
       "      <td>0</td>\n",
       "    </tr>\n",
       "    <tr>\n",
       "      <th>MEGHALAYA</th>\n",
       "      <td>2642</td>\n",
       "      <td>670</td>\n",
       "      <td>36</td>\n",
       "      <td>460</td>\n",
       "      <td>8</td>\n",
       "    </tr>\n",
       "    <tr>\n",
       "      <th>MIZORAM</th>\n",
       "      <td>2070</td>\n",
       "      <td>30</td>\n",
       "      <td>8</td>\n",
       "      <td>134</td>\n",
       "      <td>6</td>\n",
       "    </tr>\n",
       "    <tr>\n",
       "      <th>NAGALAND</th>\n",
       "      <td>562</td>\n",
       "      <td>190</td>\n",
       "      <td>2</td>\n",
       "      <td>32</td>\n",
       "      <td>2</td>\n",
       "    </tr>\n",
       "    <tr>\n",
       "      <th>ODISHA</th>\n",
       "      <td>30480</td>\n",
       "      <td>25588</td>\n",
       "      <td>10782</td>\n",
       "      <td>49206</td>\n",
       "      <td>36</td>\n",
       "    </tr>\n",
       "    <tr>\n",
       "      <th>PUDUCHERRY</th>\n",
       "      <td>208</td>\n",
       "      <td>306</td>\n",
       "      <td>56</td>\n",
       "      <td>234</td>\n",
       "      <td>0</td>\n",
       "    </tr>\n",
       "    <tr>\n",
       "      <th>PUNJAB</th>\n",
       "      <td>14656</td>\n",
       "      <td>15096</td>\n",
       "      <td>3524</td>\n",
       "      <td>30840</td>\n",
       "      <td>4</td>\n",
       "    </tr>\n",
       "    <tr>\n",
       "      <th>RAJASTHAN</th>\n",
       "      <td>45684</td>\n",
       "      <td>66278</td>\n",
       "      <td>11854</td>\n",
       "      <td>262200</td>\n",
       "      <td>14</td>\n",
       "    </tr>\n",
       "    <tr>\n",
       "      <th>SIKKIM</th>\n",
       "      <td>570</td>\n",
       "      <td>180</td>\n",
       "      <td>4</td>\n",
       "      <td>108</td>\n",
       "      <td>0</td>\n",
       "    </tr>\n",
       "    <tr>\n",
       "      <th>TAMIL NADU</th>\n",
       "      <td>16660</td>\n",
       "      <td>30908</td>\n",
       "      <td>5060</td>\n",
       "      <td>45524</td>\n",
       "      <td>30</td>\n",
       "    </tr>\n",
       "    <tr>\n",
       "      <th>TELANGANA</th>\n",
       "      <td>1958</td>\n",
       "      <td>1422</td>\n",
       "      <td>578</td>\n",
       "      <td>12738</td>\n",
       "      <td>0</td>\n",
       "    </tr>\n",
       "    <tr>\n",
       "      <th>TRIPURA</th>\n",
       "      <td>5060</td>\n",
       "      <td>2202</td>\n",
       "      <td>752</td>\n",
       "      <td>16086</td>\n",
       "      <td>0</td>\n",
       "    </tr>\n",
       "    <tr>\n",
       "      <th>UTTAR PRADESH</th>\n",
       "      <td>51150</td>\n",
       "      <td>135906</td>\n",
       "      <td>57256</td>\n",
       "      <td>193738</td>\n",
       "      <td>6</td>\n",
       "    </tr>\n",
       "    <tr>\n",
       "      <th>UTTARAKHAND</th>\n",
       "      <td>3752</td>\n",
       "      <td>6484</td>\n",
       "      <td>1974</td>\n",
       "      <td>9756</td>\n",
       "      <td>2</td>\n",
       "    </tr>\n",
       "    <tr>\n",
       "      <th>WEST BENGAL</th>\n",
       "      <td>47876</td>\n",
       "      <td>61158</td>\n",
       "      <td>12308</td>\n",
       "      <td>344124</td>\n",
       "      <td>254</td>\n",
       "    </tr>\n",
       "  </tbody>\n",
       "</table>\n",
       "</div>"
      ],
      "text/plain": [
       "                    Rape  Kidnapping_Abduction  Dowry_Deaths  \\\n",
       "STATE/UT                                                       \n",
       "A & N ISLANDS        336                   212            20   \n",
       "ANDHRA PRADESH     32150                 34504         13844   \n",
       "ARUNACHAL PRADESH   1316                  1470             6   \n",
       "ASSAM              40190                 62074          3268   \n",
       "BIHAR              30758                 57086         32206   \n",
       "CHANDIGARH           770                  1682            90   \n",
       "CHHATTISGARH       29308                 11808          2758   \n",
       "D & N HAVELI         132                   224             2   \n",
       "DAMAN & DIU           60                    44             6   \n",
       "DELHI              20312                 46586          3758   \n",
       "GOA                 1062                   640            38   \n",
       "GUJARAT            11644                 34670          1108   \n",
       "HARYANA            17110                 20016          7372   \n",
       "HIMACHAL PRADESH    4674                  4116           112   \n",
       "JAMMU & KASHMIR     7038                 21164           294   \n",
       "JHARKHAND          22826                 14186          7896   \n",
       "KARNATAKA          15056                 16262          7016   \n",
       "KERALA             20030                  4452           700   \n",
       "LAKSHADWEEP           20                     2             0   \n",
       "MADHYA PRADESH     90996                 35608         21090   \n",
       "MAHARASHTRA        48974                 30368          9696   \n",
       "MANIPUR             1068                  2606             6   \n",
       "MEGHALAYA           2642                   670            36   \n",
       "MIZORAM             2070                    30             8   \n",
       "NAGALAND             562                   190             2   \n",
       "ODISHA             30480                 25588         10782   \n",
       "PUDUCHERRY           208                   306            56   \n",
       "PUNJAB             14656                 15096          3524   \n",
       "RAJASTHAN          45684                 66278         11854   \n",
       "SIKKIM               570                   180             4   \n",
       "TAMIL NADU         16660                 30908          5060   \n",
       "TELANGANA           1958                  1422           578   \n",
       "TRIPURA             5060                  2202           752   \n",
       "UTTAR PRADESH      51150                135906         57256   \n",
       "UTTARAKHAND         3752                  6484          1974   \n",
       "WEST BENGAL        47876                 61158         12308   \n",
       "\n",
       "                   Domestic_violence  Importation_of_Girls  \n",
       "STATE/UT                                                    \n",
       "A & N ISLANDS                    288                     0  \n",
       "ANDHRA PRADESH                280906                    34  \n",
       "ARUNACHAL PRADESH                476                     0  \n",
       "ASSAM                         115300                    22  \n",
       "BIHAR                          69770                   904  \n",
       "CHANDIGARH                      2080                     0  \n",
       "CHHATTISGARH                   23436                    12  \n",
       "D & N HAVELI                      90                     0  \n",
       "DAMAN & DIU                       76                     0  \n",
       "DELHI                          42834                     2  \n",
       "GOA                              532                     0  \n",
       "GUJARAT                       146468                     0  \n",
       "HARYANA                        68414                     4  \n",
       "HIMACHAL PRADESH                7796                     0  \n",
       "JAMMU & KASHMIR                 5390                     0  \n",
       "JHARKHAND                      23910                   298  \n",
       "KARNATAKA                      72706                    94  \n",
       "KERALA                        111626                     0  \n",
       "LAKSHADWEEP                       14                     0  \n",
       "MADHYA PRADESH                102816                   134  \n",
       "MAHARASHTRA                   193202                     6  \n",
       "MANIPUR                          578                     0  \n",
       "MEGHALAYA                        460                     8  \n",
       "MIZORAM                          134                     6  \n",
       "NAGALAND                          32                     2  \n",
       "ODISHA                         49206                    36  \n",
       "PUDUCHERRY                       234                     0  \n",
       "PUNJAB                         30840                     4  \n",
       "RAJASTHAN                     262200                    14  \n",
       "SIKKIM                           108                     0  \n",
       "TAMIL NADU                     45524                    30  \n",
       "TELANGANA                      12738                     0  \n",
       "TRIPURA                        16086                     0  \n",
       "UTTAR PRADESH                 193738                     6  \n",
       "UTTARAKHAND                     9756                     2  \n",
       "WEST BENGAL                   344124                   254  "
      ]
     },
     "execution_count": 35,
     "metadata": {},
     "output_type": "execute_result"
    }
   ],
   "source": [
    "counts_df = crimes_df.groupby('STATE/UT')[['Rape', 'Kidnapping_Abduction', 'Dowry_Deaths','Domestic_violence', 'Importation_of_Girls']].sum()\n",
    "counts_df"
   ]
  },
  {
   "cell_type": "markdown",
   "metadata": {},
   "source": [
    "### Q. Find out the top 5 states, where maximum numbers of cases has been reported in TOTAL in span of 2001-2014, each category wise.\n",
    "\n",
    "##### For \"Rape\" case -"
   ]
  },
  {
   "cell_type": "code",
   "execution_count": 36,
   "metadata": {},
   "outputs": [
    {
     "data": {
      "text/html": [
       "<div>\n",
       "<style scoped>\n",
       "    .dataframe tbody tr th:only-of-type {\n",
       "        vertical-align: middle;\n",
       "    }\n",
       "\n",
       "    .dataframe tbody tr th {\n",
       "        vertical-align: top;\n",
       "    }\n",
       "\n",
       "    .dataframe thead th {\n",
       "        text-align: right;\n",
       "    }\n",
       "</style>\n",
       "<table border=\"1\" class=\"dataframe\">\n",
       "  <thead>\n",
       "    <tr style=\"text-align: right;\">\n",
       "      <th></th>\n",
       "      <th>Rape</th>\n",
       "      <th>Kidnapping_Abduction</th>\n",
       "      <th>Dowry_Deaths</th>\n",
       "      <th>Domestic_violence</th>\n",
       "      <th>Importation_of_Girls</th>\n",
       "    </tr>\n",
       "    <tr>\n",
       "      <th>STATE/UT</th>\n",
       "      <th></th>\n",
       "      <th></th>\n",
       "      <th></th>\n",
       "      <th></th>\n",
       "      <th></th>\n",
       "    </tr>\n",
       "  </thead>\n",
       "  <tbody>\n",
       "    <tr>\n",
       "      <th>MADHYA PRADESH</th>\n",
       "      <td>90996</td>\n",
       "      <td>35608</td>\n",
       "      <td>21090</td>\n",
       "      <td>102816</td>\n",
       "      <td>134</td>\n",
       "    </tr>\n",
       "    <tr>\n",
       "      <th>UTTAR PRADESH</th>\n",
       "      <td>51150</td>\n",
       "      <td>135906</td>\n",
       "      <td>57256</td>\n",
       "      <td>193738</td>\n",
       "      <td>6</td>\n",
       "    </tr>\n",
       "    <tr>\n",
       "      <th>MAHARASHTRA</th>\n",
       "      <td>48974</td>\n",
       "      <td>30368</td>\n",
       "      <td>9696</td>\n",
       "      <td>193202</td>\n",
       "      <td>6</td>\n",
       "    </tr>\n",
       "    <tr>\n",
       "      <th>WEST BENGAL</th>\n",
       "      <td>47876</td>\n",
       "      <td>61158</td>\n",
       "      <td>12308</td>\n",
       "      <td>344124</td>\n",
       "      <td>254</td>\n",
       "    </tr>\n",
       "    <tr>\n",
       "      <th>RAJASTHAN</th>\n",
       "      <td>45684</td>\n",
       "      <td>66278</td>\n",
       "      <td>11854</td>\n",
       "      <td>262200</td>\n",
       "      <td>14</td>\n",
       "    </tr>\n",
       "  </tbody>\n",
       "</table>\n",
       "</div>"
      ],
      "text/plain": [
       "                 Rape  Kidnapping_Abduction  Dowry_Deaths  Domestic_violence  \\\n",
       "STATE/UT                                                                       \n",
       "MADHYA PRADESH  90996                 35608         21090             102816   \n",
       "UTTAR PRADESH   51150                135906         57256             193738   \n",
       "MAHARASHTRA     48974                 30368          9696             193202   \n",
       "WEST BENGAL     47876                 61158         12308             344124   \n",
       "RAJASTHAN       45684                 66278         11854             262200   \n",
       "\n",
       "                Importation_of_Girls  \n",
       "STATE/UT                              \n",
       "MADHYA PRADESH                   134  \n",
       "UTTAR PRADESH                      6  \n",
       "MAHARASHTRA                        6  \n",
       "WEST BENGAL                      254  \n",
       "RAJASTHAN                         14  "
      ]
     },
     "execution_count": 36,
     "metadata": {},
     "output_type": "execute_result"
    }
   ],
   "source": [
    "counts_df.sort_values(by = 'Rape', ascending = False).head(5)"
   ]
  },
  {
   "cell_type": "markdown",
   "metadata": {},
   "source": [
    "#### Madhya Pradesh has reported the highest number of rape cases in TOTAL in span of 2001-2014, where UP, Maharastra, West Bengal and Rajasthan follows the list.\n",
    "\n",
    "##### For Kidnapping and abduction case -"
   ]
  },
  {
   "cell_type": "code",
   "execution_count": 37,
   "metadata": {},
   "outputs": [
    {
     "data": {
      "text/html": [
       "<div>\n",
       "<style scoped>\n",
       "    .dataframe tbody tr th:only-of-type {\n",
       "        vertical-align: middle;\n",
       "    }\n",
       "\n",
       "    .dataframe tbody tr th {\n",
       "        vertical-align: top;\n",
       "    }\n",
       "\n",
       "    .dataframe thead th {\n",
       "        text-align: right;\n",
       "    }\n",
       "</style>\n",
       "<table border=\"1\" class=\"dataframe\">\n",
       "  <thead>\n",
       "    <tr style=\"text-align: right;\">\n",
       "      <th></th>\n",
       "      <th>Rape</th>\n",
       "      <th>Kidnapping_Abduction</th>\n",
       "      <th>Dowry_Deaths</th>\n",
       "      <th>Domestic_violence</th>\n",
       "      <th>Importation_of_Girls</th>\n",
       "    </tr>\n",
       "    <tr>\n",
       "      <th>STATE/UT</th>\n",
       "      <th></th>\n",
       "      <th></th>\n",
       "      <th></th>\n",
       "      <th></th>\n",
       "      <th></th>\n",
       "    </tr>\n",
       "  </thead>\n",
       "  <tbody>\n",
       "    <tr>\n",
       "      <th>UTTAR PRADESH</th>\n",
       "      <td>51150</td>\n",
       "      <td>135906</td>\n",
       "      <td>57256</td>\n",
       "      <td>193738</td>\n",
       "      <td>6</td>\n",
       "    </tr>\n",
       "    <tr>\n",
       "      <th>RAJASTHAN</th>\n",
       "      <td>45684</td>\n",
       "      <td>66278</td>\n",
       "      <td>11854</td>\n",
       "      <td>262200</td>\n",
       "      <td>14</td>\n",
       "    </tr>\n",
       "    <tr>\n",
       "      <th>ASSAM</th>\n",
       "      <td>40190</td>\n",
       "      <td>62074</td>\n",
       "      <td>3268</td>\n",
       "      <td>115300</td>\n",
       "      <td>22</td>\n",
       "    </tr>\n",
       "    <tr>\n",
       "      <th>WEST BENGAL</th>\n",
       "      <td>47876</td>\n",
       "      <td>61158</td>\n",
       "      <td>12308</td>\n",
       "      <td>344124</td>\n",
       "      <td>254</td>\n",
       "    </tr>\n",
       "    <tr>\n",
       "      <th>BIHAR</th>\n",
       "      <td>30758</td>\n",
       "      <td>57086</td>\n",
       "      <td>32206</td>\n",
       "      <td>69770</td>\n",
       "      <td>904</td>\n",
       "    </tr>\n",
       "  </tbody>\n",
       "</table>\n",
       "</div>"
      ],
      "text/plain": [
       "                Rape  Kidnapping_Abduction  Dowry_Deaths  Domestic_violence  \\\n",
       "STATE/UT                                                                      \n",
       "UTTAR PRADESH  51150                135906         57256             193738   \n",
       "RAJASTHAN      45684                 66278         11854             262200   \n",
       "ASSAM          40190                 62074          3268             115300   \n",
       "WEST BENGAL    47876                 61158         12308             344124   \n",
       "BIHAR          30758                 57086         32206              69770   \n",
       "\n",
       "               Importation_of_Girls  \n",
       "STATE/UT                             \n",
       "UTTAR PRADESH                     6  \n",
       "RAJASTHAN                        14  \n",
       "ASSAM                            22  \n",
       "WEST BENGAL                     254  \n",
       "BIHAR                           904  "
      ]
     },
     "execution_count": 37,
     "metadata": {},
     "output_type": "execute_result"
    }
   ],
   "source": [
    "counts_df.sort_values(by = 'Kidnapping_Abduction', ascending = False).head(5)"
   ]
  },
  {
   "cell_type": "markdown",
   "metadata": {},
   "source": [
    "#### Uttar Pradesh has reported the highest number of cses under \"Kidnapping and Abduction\" in TOTAL in span of 2001-2014, where Rajasthan, Assam, West Bengal and Bihar follows the list.\n",
    "\n",
    "##### For cases of deaths due to dowry -"
   ]
  },
  {
   "cell_type": "code",
   "execution_count": 38,
   "metadata": {},
   "outputs": [
    {
     "data": {
      "text/html": [
       "<div>\n",
       "<style scoped>\n",
       "    .dataframe tbody tr th:only-of-type {\n",
       "        vertical-align: middle;\n",
       "    }\n",
       "\n",
       "    .dataframe tbody tr th {\n",
       "        vertical-align: top;\n",
       "    }\n",
       "\n",
       "    .dataframe thead th {\n",
       "        text-align: right;\n",
       "    }\n",
       "</style>\n",
       "<table border=\"1\" class=\"dataframe\">\n",
       "  <thead>\n",
       "    <tr style=\"text-align: right;\">\n",
       "      <th></th>\n",
       "      <th>Rape</th>\n",
       "      <th>Kidnapping_Abduction</th>\n",
       "      <th>Dowry_Deaths</th>\n",
       "      <th>Domestic_violence</th>\n",
       "      <th>Importation_of_Girls</th>\n",
       "    </tr>\n",
       "    <tr>\n",
       "      <th>STATE/UT</th>\n",
       "      <th></th>\n",
       "      <th></th>\n",
       "      <th></th>\n",
       "      <th></th>\n",
       "      <th></th>\n",
       "    </tr>\n",
       "  </thead>\n",
       "  <tbody>\n",
       "    <tr>\n",
       "      <th>UTTAR PRADESH</th>\n",
       "      <td>51150</td>\n",
       "      <td>135906</td>\n",
       "      <td>57256</td>\n",
       "      <td>193738</td>\n",
       "      <td>6</td>\n",
       "    </tr>\n",
       "    <tr>\n",
       "      <th>BIHAR</th>\n",
       "      <td>30758</td>\n",
       "      <td>57086</td>\n",
       "      <td>32206</td>\n",
       "      <td>69770</td>\n",
       "      <td>904</td>\n",
       "    </tr>\n",
       "    <tr>\n",
       "      <th>MADHYA PRADESH</th>\n",
       "      <td>90996</td>\n",
       "      <td>35608</td>\n",
       "      <td>21090</td>\n",
       "      <td>102816</td>\n",
       "      <td>134</td>\n",
       "    </tr>\n",
       "    <tr>\n",
       "      <th>ANDHRA PRADESH</th>\n",
       "      <td>32150</td>\n",
       "      <td>34504</td>\n",
       "      <td>13844</td>\n",
       "      <td>280906</td>\n",
       "      <td>34</td>\n",
       "    </tr>\n",
       "    <tr>\n",
       "      <th>WEST BENGAL</th>\n",
       "      <td>47876</td>\n",
       "      <td>61158</td>\n",
       "      <td>12308</td>\n",
       "      <td>344124</td>\n",
       "      <td>254</td>\n",
       "    </tr>\n",
       "  </tbody>\n",
       "</table>\n",
       "</div>"
      ],
      "text/plain": [
       "                 Rape  Kidnapping_Abduction  Dowry_Deaths  Domestic_violence  \\\n",
       "STATE/UT                                                                       \n",
       "UTTAR PRADESH   51150                135906         57256             193738   \n",
       "BIHAR           30758                 57086         32206              69770   \n",
       "MADHYA PRADESH  90996                 35608         21090             102816   \n",
       "ANDHRA PRADESH  32150                 34504         13844             280906   \n",
       "WEST BENGAL     47876                 61158         12308             344124   \n",
       "\n",
       "                Importation_of_Girls  \n",
       "STATE/UT                              \n",
       "UTTAR PRADESH                      6  \n",
       "BIHAR                            904  \n",
       "MADHYA PRADESH                   134  \n",
       "ANDHRA PRADESH                    34  \n",
       "WEST BENGAL                      254  "
      ]
     },
     "execution_count": 38,
     "metadata": {},
     "output_type": "execute_result"
    }
   ],
   "source": [
    "counts_df.sort_values(by = 'Dowry_Deaths', ascending = False).head(5)"
   ]
  },
  {
   "cell_type": "markdown",
   "metadata": {},
   "source": [
    "#### Uttar Pradesh has reported the highest number of Deaths caused by Dowry cases in TOTAL in span of 2001-2014, where Bihar, Madhya Pradesh, Andhra Pradesh and  West Bengal follows the list.\n",
    "\n",
    "##### For  Domestic Violance case -"
   ]
  },
  {
   "cell_type": "code",
   "execution_count": 39,
   "metadata": {},
   "outputs": [
    {
     "data": {
      "text/html": [
       "<div>\n",
       "<style scoped>\n",
       "    .dataframe tbody tr th:only-of-type {\n",
       "        vertical-align: middle;\n",
       "    }\n",
       "\n",
       "    .dataframe tbody tr th {\n",
       "        vertical-align: top;\n",
       "    }\n",
       "\n",
       "    .dataframe thead th {\n",
       "        text-align: right;\n",
       "    }\n",
       "</style>\n",
       "<table border=\"1\" class=\"dataframe\">\n",
       "  <thead>\n",
       "    <tr style=\"text-align: right;\">\n",
       "      <th></th>\n",
       "      <th>Rape</th>\n",
       "      <th>Kidnapping_Abduction</th>\n",
       "      <th>Dowry_Deaths</th>\n",
       "      <th>Domestic_violence</th>\n",
       "      <th>Importation_of_Girls</th>\n",
       "    </tr>\n",
       "    <tr>\n",
       "      <th>STATE/UT</th>\n",
       "      <th></th>\n",
       "      <th></th>\n",
       "      <th></th>\n",
       "      <th></th>\n",
       "      <th></th>\n",
       "    </tr>\n",
       "  </thead>\n",
       "  <tbody>\n",
       "    <tr>\n",
       "      <th>WEST BENGAL</th>\n",
       "      <td>47876</td>\n",
       "      <td>61158</td>\n",
       "      <td>12308</td>\n",
       "      <td>344124</td>\n",
       "      <td>254</td>\n",
       "    </tr>\n",
       "    <tr>\n",
       "      <th>ANDHRA PRADESH</th>\n",
       "      <td>32150</td>\n",
       "      <td>34504</td>\n",
       "      <td>13844</td>\n",
       "      <td>280906</td>\n",
       "      <td>34</td>\n",
       "    </tr>\n",
       "    <tr>\n",
       "      <th>RAJASTHAN</th>\n",
       "      <td>45684</td>\n",
       "      <td>66278</td>\n",
       "      <td>11854</td>\n",
       "      <td>262200</td>\n",
       "      <td>14</td>\n",
       "    </tr>\n",
       "    <tr>\n",
       "      <th>UTTAR PRADESH</th>\n",
       "      <td>51150</td>\n",
       "      <td>135906</td>\n",
       "      <td>57256</td>\n",
       "      <td>193738</td>\n",
       "      <td>6</td>\n",
       "    </tr>\n",
       "    <tr>\n",
       "      <th>MAHARASHTRA</th>\n",
       "      <td>48974</td>\n",
       "      <td>30368</td>\n",
       "      <td>9696</td>\n",
       "      <td>193202</td>\n",
       "      <td>6</td>\n",
       "    </tr>\n",
       "  </tbody>\n",
       "</table>\n",
       "</div>"
      ],
      "text/plain": [
       "                 Rape  Kidnapping_Abduction  Dowry_Deaths  Domestic_violence  \\\n",
       "STATE/UT                                                                       \n",
       "WEST BENGAL     47876                 61158         12308             344124   \n",
       "ANDHRA PRADESH  32150                 34504         13844             280906   \n",
       "RAJASTHAN       45684                 66278         11854             262200   \n",
       "UTTAR PRADESH   51150                135906         57256             193738   \n",
       "MAHARASHTRA     48974                 30368          9696             193202   \n",
       "\n",
       "                Importation_of_Girls  \n",
       "STATE/UT                              \n",
       "WEST BENGAL                      254  \n",
       "ANDHRA PRADESH                    34  \n",
       "RAJASTHAN                         14  \n",
       "UTTAR PRADESH                      6  \n",
       "MAHARASHTRA                        6  "
      ]
     },
     "execution_count": 39,
     "metadata": {},
     "output_type": "execute_result"
    }
   ],
   "source": [
    "counts_df.sort_values(by = 'Domestic_violence', ascending = False).head(5)"
   ]
  },
  {
   "cell_type": "markdown",
   "metadata": {},
   "source": [
    "#### West Bengal has reported the highest number of cases of Domestic Violence in TOTAL in span of 2001-2014, where Andhra Pradesh, Rajsthan, Uttar Pradesh and  Maharashtra follows the list.\n",
    "\n",
    "\n",
    "##### For Importation of Girls case -"
   ]
  },
  {
   "cell_type": "code",
   "execution_count": 40,
   "metadata": {},
   "outputs": [
    {
     "data": {
      "text/html": [
       "<div>\n",
       "<style scoped>\n",
       "    .dataframe tbody tr th:only-of-type {\n",
       "        vertical-align: middle;\n",
       "    }\n",
       "\n",
       "    .dataframe tbody tr th {\n",
       "        vertical-align: top;\n",
       "    }\n",
       "\n",
       "    .dataframe thead th {\n",
       "        text-align: right;\n",
       "    }\n",
       "</style>\n",
       "<table border=\"1\" class=\"dataframe\">\n",
       "  <thead>\n",
       "    <tr style=\"text-align: right;\">\n",
       "      <th></th>\n",
       "      <th>Rape</th>\n",
       "      <th>Kidnapping_Abduction</th>\n",
       "      <th>Dowry_Deaths</th>\n",
       "      <th>Domestic_violence</th>\n",
       "      <th>Importation_of_Girls</th>\n",
       "    </tr>\n",
       "    <tr>\n",
       "      <th>STATE/UT</th>\n",
       "      <th></th>\n",
       "      <th></th>\n",
       "      <th></th>\n",
       "      <th></th>\n",
       "      <th></th>\n",
       "    </tr>\n",
       "  </thead>\n",
       "  <tbody>\n",
       "    <tr>\n",
       "      <th>BIHAR</th>\n",
       "      <td>30758</td>\n",
       "      <td>57086</td>\n",
       "      <td>32206</td>\n",
       "      <td>69770</td>\n",
       "      <td>904</td>\n",
       "    </tr>\n",
       "    <tr>\n",
       "      <th>JHARKHAND</th>\n",
       "      <td>22826</td>\n",
       "      <td>14186</td>\n",
       "      <td>7896</td>\n",
       "      <td>23910</td>\n",
       "      <td>298</td>\n",
       "    </tr>\n",
       "    <tr>\n",
       "      <th>WEST BENGAL</th>\n",
       "      <td>47876</td>\n",
       "      <td>61158</td>\n",
       "      <td>12308</td>\n",
       "      <td>344124</td>\n",
       "      <td>254</td>\n",
       "    </tr>\n",
       "    <tr>\n",
       "      <th>MADHYA PRADESH</th>\n",
       "      <td>90996</td>\n",
       "      <td>35608</td>\n",
       "      <td>21090</td>\n",
       "      <td>102816</td>\n",
       "      <td>134</td>\n",
       "    </tr>\n",
       "    <tr>\n",
       "      <th>KARNATAKA</th>\n",
       "      <td>15056</td>\n",
       "      <td>16262</td>\n",
       "      <td>7016</td>\n",
       "      <td>72706</td>\n",
       "      <td>94</td>\n",
       "    </tr>\n",
       "  </tbody>\n",
       "</table>\n",
       "</div>"
      ],
      "text/plain": [
       "                 Rape  Kidnapping_Abduction  Dowry_Deaths  Domestic_violence  \\\n",
       "STATE/UT                                                                       \n",
       "BIHAR           30758                 57086         32206              69770   \n",
       "JHARKHAND       22826                 14186          7896              23910   \n",
       "WEST BENGAL     47876                 61158         12308             344124   \n",
       "MADHYA PRADESH  90996                 35608         21090             102816   \n",
       "KARNATAKA       15056                 16262          7016              72706   \n",
       "\n",
       "                Importation_of_Girls  \n",
       "STATE/UT                              \n",
       "BIHAR                            904  \n",
       "JHARKHAND                        298  \n",
       "WEST BENGAL                      254  \n",
       "MADHYA PRADESH                   134  \n",
       "KARNATAKA                         94  "
      ]
     },
     "execution_count": 40,
     "metadata": {},
     "output_type": "execute_result"
    }
   ],
   "source": [
    "counts_df.sort_values(by = 'Importation_of_Girls', ascending = False).head(5)"
   ]
  },
  {
   "cell_type": "markdown",
   "metadata": {},
   "source": [
    "#### Bihar has reported the highest number of Importation of girl's cases in TOTAL in span of 2001-2014, where Jharkhand, West Bengal, Madhya Pradesh and  Karnataka follows the list."
   ]
  },
  {
   "cell_type": "markdown",
   "metadata": {},
   "source": [
    "#### Q: Which state has featured in both the lists of \"Maximum number of rape cases\" and \"Maximum number of Importation cases\"."
   ]
  },
  {
   "cell_type": "code",
   "execution_count": 41,
   "metadata": {
    "scrolled": true
   },
   "outputs": [
    {
     "data": {
      "text/html": [
       "<div>\n",
       "<style scoped>\n",
       "    .dataframe tbody tr th:only-of-type {\n",
       "        vertical-align: middle;\n",
       "    }\n",
       "\n",
       "    .dataframe tbody tr th {\n",
       "        vertical-align: top;\n",
       "    }\n",
       "\n",
       "    .dataframe thead th {\n",
       "        text-align: right;\n",
       "    }\n",
       "</style>\n",
       "<table border=\"1\" class=\"dataframe\">\n",
       "  <thead>\n",
       "    <tr style=\"text-align: right;\">\n",
       "      <th></th>\n",
       "      <th>STATE/UT</th>\n",
       "      <th>Year</th>\n",
       "      <th>Rape</th>\n",
       "      <th>Kidnapping_Abduction</th>\n",
       "      <th>Dowry_Deaths</th>\n",
       "      <th>Domestic_violence</th>\n",
       "      <th>Importation_of_Girls</th>\n",
       "    </tr>\n",
       "  </thead>\n",
       "  <tbody>\n",
       "    <tr>\n",
       "      <th>0</th>\n",
       "      <td>MADHYA PRADESH</td>\n",
       "      <td>2011</td>\n",
       "      <td>3406</td>\n",
       "      <td>1088</td>\n",
       "      <td>811</td>\n",
       "      <td>3732</td>\n",
       "      <td>45</td>\n",
       "    </tr>\n",
       "  </tbody>\n",
       "</table>\n",
       "</div>"
      ],
      "text/plain": [
       "         STATE/UT  Year  Rape  Kidnapping_Abduction  Dowry_Deaths  \\\n",
       "0  MADHYA PRADESH  2011  3406                  1088           811   \n",
       "\n",
       "   Domestic_violence  Importation_of_Girls  \n",
       "0               3732                    45  "
      ]
     },
     "execution_count": 41,
     "metadata": {},
     "output_type": "execute_result"
    }
   ],
   "source": [
    "max_importation_case = max_importation_case.merge(max_rape_cases)\n",
    "max_importation_case"
   ]
  },
  {
   "cell_type": "markdown",
   "metadata": {},
   "source": [
    "#### It is Madhya Pradesh, who has maximum cases reported in both the categories.\n",
    "\n",
    "#### Q: Which state has featured in both the lists of \"Maximum number of rape cases\" and \"Maximum number of Deaths due to Dowry cases\"."
   ]
  },
  {
   "cell_type": "code",
   "execution_count": 42,
   "metadata": {},
   "outputs": [
    {
     "data": {
      "text/html": [
       "<div>\n",
       "<style scoped>\n",
       "    .dataframe tbody tr th:only-of-type {\n",
       "        vertical-align: middle;\n",
       "    }\n",
       "\n",
       "    .dataframe tbody tr th {\n",
       "        vertical-align: top;\n",
       "    }\n",
       "\n",
       "    .dataframe thead th {\n",
       "        text-align: right;\n",
       "    }\n",
       "</style>\n",
       "<table border=\"1\" class=\"dataframe\">\n",
       "  <thead>\n",
       "    <tr style=\"text-align: right;\">\n",
       "      <th></th>\n",
       "      <th>STATE/UT</th>\n",
       "      <th>Year</th>\n",
       "      <th>Rape</th>\n",
       "      <th>Kidnapping_Abduction</th>\n",
       "      <th>Dowry_Deaths</th>\n",
       "      <th>Domestic_violence</th>\n",
       "      <th>Importation_of_Girls</th>\n",
       "    </tr>\n",
       "  </thead>\n",
       "  <tbody>\n",
       "    <tr>\n",
       "      <th>0</th>\n",
       "      <td>UTTAR PRADESH</td>\n",
       "      <td>2014</td>\n",
       "      <td>3467</td>\n",
       "      <td>10626</td>\n",
       "      <td>2469</td>\n",
       "      <td>10471</td>\n",
       "      <td>0</td>\n",
       "    </tr>\n",
       "  </tbody>\n",
       "</table>\n",
       "</div>"
      ],
      "text/plain": [
       "        STATE/UT  Year  Rape  Kidnapping_Abduction  Dowry_Deaths  \\\n",
       "0  UTTAR PRADESH  2014  3467                 10626          2469   \n",
       "\n",
       "   Domestic_violence  Importation_of_Girls  \n",
       "0              10471                     0  "
      ]
     },
     "execution_count": 42,
     "metadata": {},
     "output_type": "execute_result"
    }
   ],
   "source": [
    "max_dowry_death_cases = max_dowry_death_cases.merge(max_rape_cases)\n",
    "max_dowry_death_cases"
   ]
  },
  {
   "cell_type": "markdown",
   "metadata": {},
   "source": [
    "#### We conclude, it is Uttar Pradesh, who has reported maximum cases in both the given categories."
   ]
  },
  {
   "cell_type": "code",
   "execution_count": 43,
   "metadata": {},
   "outputs": [],
   "source": [
    "import jovian"
   ]
  },
  {
   "cell_type": "code",
   "execution_count": 44,
   "metadata": {},
   "outputs": [
    {
     "data": {
      "application/javascript": [
       "window.require && require([\"base/js/namespace\"],function(Jupyter){Jupyter.notebook.save_checkpoint()})"
      ],
      "text/plain": [
       "<IPython.core.display.Javascript object>"
      ]
     },
     "metadata": {},
     "output_type": "display_data"
    },
    {
     "name": "stdout",
     "output_type": "stream",
     "text": [
      "[jovian] Attempting to save notebook..\u001b[0m\n",
      "[jovian] Updating notebook \"sathi-satb/crime-against-women\" on https://jovian.ml/\u001b[0m\n",
      "[jovian] Uploading notebook..\u001b[0m\n",
      "[jovian] Capturing environment..\u001b[0m\n",
      "[jovian] Committed successfully! https://jovian.ml/sathi-satb/crime-against-women\u001b[0m\n"
     ]
    },
    {
     "data": {
      "text/plain": [
       "'https://jovian.ml/sathi-satb/crime-against-women'"
      ]
     },
     "execution_count": 44,
     "metadata": {},
     "output_type": "execute_result"
    }
   ],
   "source": [
    "jovian.commit()"
   ]
  },
  {
   "cell_type": "markdown",
   "metadata": {},
   "source": [
    "# Inferences and Conclusion"
   ]
  },
  {
   "cell_type": "markdown",
   "metadata": {},
   "source": [
    "#### The main aim of the project was to analyse the situation of women in the year 2001-2014. \n",
    "#### We also did a deep analysis through charts and by raising important questions. Let us go through some of the important analysis, we have done through thid project -\n",
    "            \n",
    "          1)More than 5 million females has been a victim of some or other type of Violance, based on their gender, \n",
    "          starting from rape to importing them for buisness. \n",
    "          2) We concluded from the series of bar graphs that 2014 was the year, when crimes were reported the highest \n",
    "          under each category.\n",
    "          3) We tried finding out the top 10 highest cases reported ever, along with year in which has been reported \n",
    "          and in which state.Where, Madhya Pradesh having highest number of cases of rape in 2014, Uttar Pradesh having \n",
    "          highest cases in Dowry death in 2014, West Bengal having highest cases in Domestic Violance in 2014 and Bihar \n",
    "          having the highest cases in importaion of girls in 2011.\n",
    "          4)We summarised the TOTAL number of cases happening, in 2001-2014, by each state.\n",
    "          5)We also found out the top 5 states where maximum number of TOTAL cases has been reported from 2001-2014, \n",
    "          state   wise.\n",
    "          6)We also merged the data in two different cases, first one being \"Maximum number of rape cases\" and \n",
    "          \"Maximum number of Importation cases\", where we found out it is Madhya Pradesh and in second one being \n",
    "          \"Maximum number of rape cases\" and \"Maximum number of Deaths due to Dowry cases\", which we concluded to \n",
    "          be Uttar Pradesh."
   ]
  },
  {
   "cell_type": "code",
   "execution_count": 45,
   "metadata": {},
   "outputs": [],
   "source": [
    "import jovian"
   ]
  },
  {
   "cell_type": "code",
   "execution_count": null,
   "metadata": {},
   "outputs": [
    {
     "data": {
      "application/javascript": [
       "window.require && require([\"base/js/namespace\"],function(Jupyter){Jupyter.notebook.save_checkpoint()})"
      ],
      "text/plain": [
       "<IPython.core.display.Javascript object>"
      ]
     },
     "metadata": {},
     "output_type": "display_data"
    },
    {
     "name": "stdout",
     "output_type": "stream",
     "text": [
      "[jovian] Attempting to save notebook..\u001b[0m\n"
     ]
    }
   ],
   "source": [
    "jovian.commit()"
   ]
  },
  {
   "cell_type": "markdown",
   "metadata": {},
   "source": [
    "# References and Future Work"
   ]
  },
  {
   "cell_type": "markdown",
   "metadata": {},
   "source": [
    "### Reference -\n",
    "#### 1) All of my doubts has been clared at https://stackoverflow.com\n",
    "#### 2)For knowing more about pandas and it's functions in deatil - https://pandas.pydata.org\n",
    "#### 3) For more ideas on Matplotlib and it's library- https://matplotlib.org\n",
    "#### 4)Also for many coding related doubts, refferd to - https://www.w3schools.com\n",
    "\n",
    "### Future Work-\n",
    "I want to work more on the topic of Women's safety in our society and also would do the analysis on same type of datset, but that will not be bound to any specific country but whole world in general!"
   ]
  },
  {
   "cell_type": "code",
   "execution_count": 47,
   "metadata": {},
   "outputs": [],
   "source": [
    "import jovian"
   ]
  },
  {
   "cell_type": "code",
   "execution_count": 48,
   "metadata": {},
   "outputs": [
    {
     "data": {
      "application/javascript": [
       "window.require && require([\"base/js/namespace\"],function(Jupyter){Jupyter.notebook.save_checkpoint()})"
      ],
      "text/plain": [
       "<IPython.core.display.Javascript object>"
      ]
     },
     "metadata": {},
     "output_type": "display_data"
    },
    {
     "name": "stdout",
     "output_type": "stream",
     "text": [
      "[jovian] Attempting to save notebook..\u001b[0m\n",
      "[jovian] Updating notebook \"sathi-satb/crime-against-women\" on https://jovian.ml/\u001b[0m\n",
      "[jovian] Uploading notebook..\u001b[0m\n",
      "[jovian] Capturing environment..\u001b[0m\n",
      "[jovian] Committed successfully! https://jovian.ml/sathi-satb/crime-against-women\u001b[0m\n"
     ]
    },
    {
     "data": {
      "text/plain": [
       "'https://jovian.ml/sathi-satb/crime-against-women'"
      ]
     },
     "execution_count": 48,
     "metadata": {},
     "output_type": "execute_result"
    }
   ],
   "source": [
    "jovian.commit()"
   ]
  },
  {
   "cell_type": "code",
   "execution_count": null,
   "metadata": {},
   "outputs": [],
   "source": []
  }
 ],
 "metadata": {
  "kernelspec": {
   "display_name": "Python 3",
   "language": "python",
   "name": "python3"
  },
  "language_info": {
   "codemirror_mode": {
    "name": "ipython",
    "version": 3
   },
   "file_extension": ".py",
   "mimetype": "text/x-python",
   "name": "python",
   "nbconvert_exporter": "python",
   "pygments_lexer": "ipython3",
   "version": "3.8.6"
  }
 },
 "nbformat": 4,
 "nbformat_minor": 2
}
